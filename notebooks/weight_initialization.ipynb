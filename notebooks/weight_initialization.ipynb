{
 "cells": [
  {
   "cell_type": "markdown",
   "metadata": {},
   "source": [
    "# Weight Initialization"
   ]
  },
  {
   "cell_type": "markdown",
   "metadata": {},
   "source": [
    "In this notebook, we experiment with weight initialization approaches to examine their impact on layer outputs."
   ]
  },
  {
   "cell_type": "markdown",
   "metadata": {},
   "source": [
    "[![Open In Colab](https://colab.research.google.com/assets/colab-badge.svg)](https://colab.research.google.com/github/jonkrohn/DLTFpT/blob/master/notebooks/weight_initialization.ipynb)"
   ]
  },
  {
   "cell_type": "markdown",
   "metadata": {},
   "source": [
    "#### Load dependencies"
   ]
  },
  {
   "cell_type": "code",
   "execution_count": 10,
   "metadata": {},
   "outputs": [],
   "source": [
    "import numpy as np\n",
    "import matplotlib.pyplot as plt\n",
    "\n",
    "from tensorflow.keras import Sequential\n",
    "from tensorflow.keras.layers import Dense, Activation\n",
    "from tensorflow.keras.initializers import Zeros, RandomNormal, glorot_normal, glorot_uniform"
   ]
  },
  {
   "cell_type": "markdown",
   "metadata": {},
   "source": [
    "#### Set number of neurons"
   ]
  },
  {
   "cell_type": "code",
   "execution_count": 11,
   "metadata": {},
   "outputs": [],
   "source": [
    "# n_input suggests the input dimension, 784 means in input layer there are 784 neurons.\n",
    "n_input = 784\n",
    "\n",
    "# in hidden layer there are 256 neurons.\n",
    "n_dense = 256"
   ]
  },
  {
   "cell_type": "markdown",
   "metadata": {},
   "source": [
    "#### Select a bias initializer"
   ]
  },
  {
   "cell_type": "code",
   "execution_count": 12,
   "metadata": {},
   "outputs": [],
   "source": [
    "# we are having an array of zero, which will serve as bias for neurons in hidden layer.\n",
    "b_init = Zeros()"
   ]
  },
  {
   "cell_type": "markdown",
   "metadata": {},
   "source": [
    "#### Select a weight initializer"
   ]
  },
  {
   "cell_type": "code",
   "execution_count": 13,
   "metadata": {},
   "outputs": [],
   "source": [
    "# initially for weights are initalized using normal distribution \n",
    "# Then try with glorot_normal or glorot_uniform distribution.\n",
    "\n",
    "# But it is suggested to use glorot_normal or glorot_uniform distribution over normal distribution for weights initialization.\n",
    "# w_init = RandomNormal(stddev=1.0)\n",
    "w_init = glorot_normal()\n",
    "# w_init = glorot_uniform()"
   ]
  },
  {
   "cell_type": "markdown",
   "metadata": {},
   "source": [
    "#### Design neural network architecture"
   ]
  },
  {
   "cell_type": "code",
   "execution_count": 14,
   "metadata": {},
   "outputs": [],
   "source": [
    "# sequential mode.\n",
    "model = Sequential()\n",
    "\n",
    "# Adding a dense layer, with below features\n",
    "# dense layer, with n_dense number of neurons in it\n",
    "# n_input - input dimension for this layer - no of edges from previous layer to this layer\n",
    "# kernel_initalization - weights initalization\n",
    "# bias_initalization - bias initialization \n",
    "# these last two parameters are optional.\n",
    "model.add(Dense(n_dense, \n",
    "                input_dim=n_input,\n",
    "                kernel_initializer=w_init,\n",
    "                bias_initializer=b_init))\n",
    "\n",
    "# Try with all below activation\n",
    "model.add(Activation('sigmoid'))\n",
    "# model.add(Activation('tanh'))\n",
    "# model.add(Activation('relu'))"
   ]
  },
  {
   "cell_type": "markdown",
   "metadata": {},
   "source": [
    "#### Generate random *x* values"
   ]
  },
  {
   "cell_type": "code",
   "execution_count": 15,
   "metadata": {},
   "outputs": [],
   "source": [
    "# input array with random values, there will be 784 random values between 0 to 1\n",
    "x = np.random.random((1,n_input))"
   ]
  },
  {
   "cell_type": "markdown",
   "metadata": {},
   "source": [
    "#### Forward propagate through the network"
   ]
  },
  {
   "cell_type": "code",
   "execution_count": 16,
   "metadata": {},
   "outputs": [
    {
     "name": "stdout",
     "output_type": "stream",
     "text": [
      "\u001b[1m1/1\u001b[0m \u001b[32m━━━━━━━━━━━━━━━━━━━━\u001b[0m\u001b[37m\u001b[0m \u001b[1m0s\u001b[0m 18ms/step\n"
     ]
    }
   ],
   "source": [
    "a = model.predict(x)"
   ]
  },
  {
   "cell_type": "code",
   "execution_count": 17,
   "metadata": {},
   "outputs": [
    {
     "data": {
      "text/plain": [
       "array([[0.67877865, 0.6279575 , 0.47604787, 0.5064396 , 0.37692142,\n",
       "        0.7258331 , 0.47980693, 0.50922215, 0.45462987, 0.61957496,\n",
       "        0.41772366, 0.41824085, 0.56876117, 0.36901107, 0.57444304,\n",
       "        0.5260246 , 0.29481134, 0.40003976, 0.40598962, 0.57229173,\n",
       "        0.35126927, 0.46621585, 0.29641888, 0.38102275, 0.54785806,\n",
       "        0.283809  , 0.69526696, 0.37458968, 0.70956534, 0.4727856 ,\n",
       "        0.8132034 , 0.31947598, 0.3544668 , 0.5005311 , 0.27690455,\n",
       "        0.520235  , 0.5055822 , 0.36083344, 0.5077769 , 0.6378557 ,\n",
       "        0.84410065, 0.719949  , 0.63741183, 0.6499938 , 0.27337173,\n",
       "        0.4775071 , 0.5837486 , 0.66984105, 0.34344596, 0.30922365,\n",
       "        0.44168302, 0.8025493 , 0.29008704, 0.41239008, 0.4751882 ,\n",
       "        0.7538537 , 0.6234358 , 0.57164556, 0.34669602, 0.71350354,\n",
       "        0.34984636, 0.5824677 , 0.5675867 , 0.70921034, 0.4291932 ,\n",
       "        0.34188837, 0.4795862 , 0.24119267, 0.62948036, 0.23840873,\n",
       "        0.2824646 , 0.47702625, 0.83086497, 0.83645886, 0.6662391 ,\n",
       "        0.37197846, 0.62443304, 0.33258986, 0.74915814, 0.6681975 ,\n",
       "        0.5529914 , 0.3722359 , 0.6664138 , 0.24098614, 0.31659672,\n",
       "        0.678995  , 0.42210984, 0.31904998, 0.5573549 , 0.41615686,\n",
       "        0.51350373, 0.45414773, 0.6029413 , 0.4482677 , 0.689627  ,\n",
       "        0.79472023, 0.36494833, 0.28063074, 0.5542849 , 0.43692088,\n",
       "        0.1930519 , 0.720302  , 0.24988113, 0.27582708, 0.5742809 ,\n",
       "        0.56802547, 0.4003288 , 0.32320598, 0.5106052 , 0.5486083 ,\n",
       "        0.6403939 , 0.44151703, 0.41483477, 0.2907169 , 0.42223912,\n",
       "        0.4682445 , 0.43921128, 0.85559267, 0.44474238, 0.73894256,\n",
       "        0.5419842 , 0.71729666, 0.6100976 , 0.5334575 , 0.1994974 ,\n",
       "        0.79849064, 0.6512022 , 0.5448203 , 0.7989213 , 0.31614062,\n",
       "        0.38630784, 0.4334386 , 0.16022371, 0.40886894, 0.4281489 ,\n",
       "        0.4356085 , 0.841322  , 0.40684572, 0.69094485, 0.53005457,\n",
       "        0.6610086 , 0.50041795, 0.29595077, 0.2457477 , 0.6430705 ,\n",
       "        0.49974516, 0.72252434, 0.7405855 , 0.46699858, 0.52650076,\n",
       "        0.51648754, 0.45186645, 0.3283408 , 0.7249773 , 0.5716126 ,\n",
       "        0.3494325 , 0.44961601, 0.575546  , 0.4544837 , 0.43772012,\n",
       "        0.8484431 , 0.5837737 , 0.10186175, 0.50739354, 0.49414897,\n",
       "        0.72024536, 0.5646136 , 0.51098156, 0.37017086, 0.38776073,\n",
       "        0.55852133, 0.53479844, 0.6559239 , 0.41549218, 0.21440287,\n",
       "        0.34365216, 0.20193194, 0.8572028 , 0.72615385, 0.5454259 ,\n",
       "        0.7072347 , 0.22530174, 0.43731138, 0.45143083, 0.4343493 ,\n",
       "        0.5378191 , 0.45713276, 0.35801876, 0.43776977, 0.41408178,\n",
       "        0.37978235, 0.4035566 , 0.13056394, 0.4467433 , 0.22107752,\n",
       "        0.6064209 , 0.43880284, 0.6187762 , 0.65627694, 0.22706337,\n",
       "        0.486266  , 0.3585391 , 0.33687952, 0.63808566, 0.4012076 ,\n",
       "        0.354352  , 0.6853662 , 0.2255311 , 0.3930202 , 0.38915926,\n",
       "        0.36888885, 0.6954816 , 0.75053823, 0.6471497 , 0.7859537 ,\n",
       "        0.4915743 , 0.4161495 , 0.77946997, 0.7728366 , 0.48911133,\n",
       "        0.6539928 , 0.24537294, 0.55740476, 0.44165835, 0.35493645,\n",
       "        0.678416  , 0.8199012 , 0.5361497 , 0.33247036, 0.65604323,\n",
       "        0.65831   , 0.5938645 , 0.26257655, 0.5373093 , 0.8094394 ,\n",
       "        0.42983398, 0.6283143 , 0.6099095 , 0.63984525, 0.6856571 ,\n",
       "        0.75333923, 0.4300808 , 0.36731756, 0.69228697, 0.55607903,\n",
       "        0.26405486, 0.50806904, 0.47001538, 0.7483727 , 0.25252214,\n",
       "        0.35222825, 0.7033    , 0.5246273 , 0.2416693 , 0.7949168 ,\n",
       "        0.24476701]], dtype=float32)"
      ]
     },
     "execution_count": 17,
     "metadata": {},
     "output_type": "execute_result"
    }
   ],
   "source": [
    "a"
   ]
  },
  {
   "cell_type": "code",
   "execution_count": 18,
   "metadata": {},
   "outputs": [
    {
     "data": {
      "image/png": "[encoded data removed]",
      "text/plain": [
       "<Figure size 640x480 with 1 Axes>"
      ]
     },
     "metadata": {},
     "output_type": "display_data"
    }
   ],
   "source": [
    "_ = plt.hist(np.transpose(a))"
   ]
  },
  {
   "cell_type": "code",
   "execution_count": null,
   "metadata": {},
   "outputs": [],
   "source": []
  }
 ],
 "metadata": {
  "kernelspec": {
   "display_name": "Python 3 (ipykernel)",
   "language": "python",
   "name": "python3"
  },
  "language_info": {
   "codemirror_mode": {
    "name": "ipython",
    "version": 3
   },
   "file_extension": ".py",
   "mimetype": "text/x-python",
   "name": "python",
   "nbconvert_exporter": "python",
   "pygments_lexer": "ipython3",
   "version": "3.11.5"
  }
 },
 "nbformat": 4,
 "nbformat_minor": 2
}
