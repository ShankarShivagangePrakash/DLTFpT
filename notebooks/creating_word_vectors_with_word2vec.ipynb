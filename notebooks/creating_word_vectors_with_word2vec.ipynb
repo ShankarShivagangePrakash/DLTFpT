{
 "cells": [
  {
   "cell_type": "markdown",
   "metadata": {},
   "source": [
    "# Creating Word Vectors with word2vec"
   ]
  },
  {
   "cell_type": "markdown",
   "metadata": {},
   "source": [
    "In this notebook, we create word vectors from a corpus of public-domain books, a selection from [Project Gutenberg](https://www.gutenberg.org/)."
   ]
  },
  {
   "cell_type": "markdown",
   "metadata": {},
   "source": [
    "#### Load dependencies"
   ]
  },
  {
   "cell_type": "code",
   "execution_count": 1,
   "metadata": {},
   "outputs": [],
   "source": [
    "# nltk stands for Natural Language tool kit.\n",
    "import nltk\n",
    "from nltk import word_tokenize, sent_tokenize\n",
    "import gensim\n",
    "from gensim.models.word2vec import Word2Vec\n",
    "# pronounce as skit-learn for reducing the dimensionality of the word vectors to plot on 2D graph.\n",
    "from sklearn.manifold import TSNE\n",
    "import pandas as pd\n",
    "# bokeh for fun interactive plots.\n",
    "from bokeh.io import output_notebook\n",
    "from bokeh.plotting import show, figure"
   ]
  },
  {
   "cell_type": "code",
   "execution_count": 2,
   "metadata": {},
   "outputs": [
    {
     "name": "stderr",
     "output_type": "stream",
     "text": [
      "[nltk_data] Downloading package punkt to\n",
      "[nltk_data]     /Users/sshivagangeprakash/nltk_data...\n",
      "[nltk_data]   Unzipping tokenizers/punkt.zip.\n"
     ]
    },
    {
     "data": {
      "text/plain": [
       "True"
      ]
     },
     "execution_count": 2,
     "metadata": {},
     "output_type": "execute_result"
    }
   ],
   "source": [
    "# we are downloading a english language tokenizer.\n",
    "# we can think of a reference dictionary for helping us to break our strings of natural language to \n",
    "# into tokens of individual sentence or words.\n",
    "nltk.download('punkt') \n",
    "# English-language sentence tokenizer (not all periods end sentences; \n",
    "# not all sentences start with a capital letter)"
   ]
  },
  {
   "cell_type": "markdown",
   "metadata": {},
   "source": [
    "#### Load data"
   ]
  },
  {
   "cell_type": "code",
   "execution_count": 3,
   "metadata": {},
   "outputs": [
    {
     "name": "stderr",
     "output_type": "stream",
     "text": [
      "[nltk_data] Downloading package gutenberg to\n",
      "[nltk_data]     /Users/sshivagangeprakash/nltk_data...\n",
      "[nltk_data]   Unzipping corpora/gutenberg.zip.\n"
     ]
    },
    {
     "data": {
      "text/plain": [
       "True"
      ]
     },
     "execution_count": 3,
     "metadata": {},
     "output_type": "execute_result"
    }
   ],
   "source": [
    "# This is the dataset for the words in it, we need to create word vectors.\n",
    "nltk.download('gutenberg')"
   ]
  },
  {
   "cell_type": "code",
   "execution_count": 4,
   "metadata": {
    "scrolled": true
   },
   "outputs": [],
   "source": [
    "from nltk.corpus import gutenberg"
   ]
  },
  {
   "cell_type": "code",
   "execution_count": 5,
   "metadata": {},
   "outputs": [
    {
     "data": {
      "text/plain": [
       "18"
      ]
     },
     "execution_count": 5,
     "metadata": {},
     "output_type": "execute_result"
    }
   ],
   "source": [
    "len(gutenberg.fileids())"
   ]
  },
  {
   "cell_type": "code",
   "execution_count": 6,
   "metadata": {},
   "outputs": [
    {
     "data": {
      "text/plain": [
       "['austen-emma.txt',\n",
       " 'austen-persuasion.txt',\n",
       " 'austen-sense.txt',\n",
       " 'bible-kjv.txt',\n",
       " 'blake-poems.txt',\n",
       " 'bryant-stories.txt',\n",
       " 'burgess-busterbrown.txt',\n",
       " 'carroll-alice.txt',\n",
       " 'chesterton-ball.txt',\n",
       " 'chesterton-brown.txt',\n",
       " 'chesterton-thursday.txt',\n",
       " 'edgeworth-parents.txt',\n",
       " 'melville-moby_dick.txt',\n",
       " 'milton-paradise.txt',\n",
       " 'shakespeare-caesar.txt',\n",
       " 'shakespeare-hamlet.txt',\n",
       " 'shakespeare-macbeth.txt',\n",
       " 'whitman-leaves.txt']"
      ]
     },
     "execution_count": 6,
     "metadata": {},
     "output_type": "execute_result"
    }
   ],
   "source": [
    "gutenberg.fileids()"
   ]
  },
  {
   "cell_type": "markdown",
   "metadata": {},
   "source": [
    "#### Tokenize text"
   ]
  },
  {
   "cell_type": "code",
   "execution_count": 7,
   "metadata": {},
   "outputs": [],
   "source": [
    "# tokenize the input data into sentences.\n",
    "gberg_sent_tokens = sent_tokenize(gutenberg.raw())"
   ]
  },
  {
   "cell_type": "code",
   "execution_count": 8,
   "metadata": {},
   "outputs": [
    {
     "data": {
      "text/plain": [
       "['[Emma by Jane Austen 1816]\\n\\nVOLUME I\\n\\nCHAPTER I\\n\\n\\nEmma Woodhouse, handsome, clever, and rich, with a comfortable home\\nand happy disposition, seemed to unite some of the best blessings\\nof existence; and had lived nearly twenty-one years in the world\\nwith very little to distress or vex her.',\n",
       " \"She was the youngest of the two daughters of a most affectionate,\\nindulgent father; and had, in consequence of her sister's marriage,\\nbeen mistress of his house from a very early period.\",\n",
       " 'Her mother\\nhad died too long ago for her to have more than an indistinct\\nremembrance of her caresses; and her place had been supplied\\nby an excellent woman as governess, who had fallen little short\\nof a mother in affection.',\n",
       " \"Sixteen years had Miss Taylor been in Mr. Woodhouse's family,\\nless as a governess than a friend, very fond of both daughters,\\nbut particularly of Emma.\",\n",
       " 'Between _them_ it was more the intimacy\\nof sisters.',\n",
       " \"Even before Miss Taylor had ceased to hold the nominal\\noffice of governess, the mildness of her temper had hardly allowed\\nher to impose any restraint; and the shadow of authority being\\nnow long passed away, they had been living together as friend and\\nfriend very mutually attached, and Emma doing just what she liked;\\nhighly esteeming Miss Taylor's judgment, but directed chiefly by\\nher own.\"]"
      ]
     },
     "execution_count": 8,
     "metadata": {},
     "output_type": "execute_result"
    }
   ],
   "source": [
    "gberg_sent_tokens[0:6]"
   ]
  },
  {
   "cell_type": "code",
   "execution_count": 9,
   "metadata": {},
   "outputs": [
    {
     "data": {
      "text/plain": [
       "\"She was the youngest of the two daughters of a most affectionate,\\nindulgent father; and had, in consequence of her sister's marriage,\\nbeen mistress of his house from a very early period.\""
      ]
     },
     "execution_count": 9,
     "metadata": {},
     "output_type": "execute_result"
    }
   ],
   "source": [
    "gberg_sent_tokens[1]"
   ]
  },
  {
   "cell_type": "code",
   "execution_count": 10,
   "metadata": {},
   "outputs": [
    {
     "data": {
      "text/plain": [
       "['She',\n",
       " 'was',\n",
       " 'the',\n",
       " 'youngest',\n",
       " 'of',\n",
       " 'the',\n",
       " 'two',\n",
       " 'daughters',\n",
       " 'of',\n",
       " 'a',\n",
       " 'most',\n",
       " 'affectionate',\n",
       " ',',\n",
       " 'indulgent',\n",
       " 'father',\n",
       " ';',\n",
       " 'and',\n",
       " 'had',\n",
       " ',',\n",
       " 'in',\n",
       " 'consequence',\n",
       " 'of',\n",
       " 'her',\n",
       " 'sister',\n",
       " \"'s\",\n",
       " 'marriage',\n",
       " ',',\n",
       " 'been',\n",
       " 'mistress',\n",
       " 'of',\n",
       " 'his',\n",
       " 'house',\n",
       " 'from',\n",
       " 'a',\n",
       " 'very',\n",
       " 'early',\n",
       " 'period',\n",
       " '.']"
      ]
     },
     "execution_count": 10,
     "metadata": {},
     "output_type": "execute_result"
    }
   ],
   "source": [
    "# tokenize into words\n",
    "word_tokenize(gberg_sent_tokens[1])"
   ]
  },
  {
   "cell_type": "code",
   "execution_count": 11,
   "metadata": {},
   "outputs": [
    {
     "data": {
      "text/plain": [
       "'father'"
      ]
     },
     "execution_count": 11,
     "metadata": {},
     "output_type": "execute_result"
    }
   ],
   "source": [
    "word_tokenize(gberg_sent_tokens[1])[14]"
   ]
  },
  {
   "cell_type": "code",
   "execution_count": 12,
   "metadata": {
    "scrolled": true
   },
   "outputs": [],
   "source": [
    "# a convenient method that handles newlines, as well as tokenizing sentences and words in one shot\n",
    "gberg_sents = gutenberg.sents()"
   ]
  },
  {
   "cell_type": "code",
   "execution_count": 13,
   "metadata": {},
   "outputs": [
    {
     "data": {
      "text/plain": [
       "[['[', 'Emma', 'by', 'Jane', 'Austen', '1816', ']'],\n",
       " ['VOLUME', 'I'],\n",
       " ['CHAPTER', 'I'],\n",
       " ['Emma',\n",
       "  'Woodhouse',\n",
       "  ',',\n",
       "  'handsome',\n",
       "  ',',\n",
       "  'clever',\n",
       "  ',',\n",
       "  'and',\n",
       "  'rich',\n",
       "  ',',\n",
       "  'with',\n",
       "  'a',\n",
       "  'comfortable',\n",
       "  'home',\n",
       "  'and',\n",
       "  'happy',\n",
       "  'disposition',\n",
       "  ',',\n",
       "  'seemed',\n",
       "  'to',\n",
       "  'unite',\n",
       "  'some',\n",
       "  'of',\n",
       "  'the',\n",
       "  'best',\n",
       "  'blessings',\n",
       "  'of',\n",
       "  'existence',\n",
       "  ';',\n",
       "  'and',\n",
       "  'had',\n",
       "  'lived',\n",
       "  'nearly',\n",
       "  'twenty',\n",
       "  '-',\n",
       "  'one',\n",
       "  'years',\n",
       "  'in',\n",
       "  'the',\n",
       "  'world',\n",
       "  'with',\n",
       "  'very',\n",
       "  'little',\n",
       "  'to',\n",
       "  'distress',\n",
       "  'or',\n",
       "  'vex',\n",
       "  'her',\n",
       "  '.'],\n",
       " ['She',\n",
       "  'was',\n",
       "  'the',\n",
       "  'youngest',\n",
       "  'of',\n",
       "  'the',\n",
       "  'two',\n",
       "  'daughters',\n",
       "  'of',\n",
       "  'a',\n",
       "  'most',\n",
       "  'affectionate',\n",
       "  ',',\n",
       "  'indulgent',\n",
       "  'father',\n",
       "  ';',\n",
       "  'and',\n",
       "  'had',\n",
       "  ',',\n",
       "  'in',\n",
       "  'consequence',\n",
       "  'of',\n",
       "  'her',\n",
       "  'sister',\n",
       "  \"'\",\n",
       "  's',\n",
       "  'marriage',\n",
       "  ',',\n",
       "  'been',\n",
       "  'mistress',\n",
       "  'of',\n",
       "  'his',\n",
       "  'house',\n",
       "  'from',\n",
       "  'a',\n",
       "  'very',\n",
       "  'early',\n",
       "  'period',\n",
       "  '.'],\n",
       " ['Her',\n",
       "  'mother',\n",
       "  'had',\n",
       "  'died',\n",
       "  'too',\n",
       "  'long',\n",
       "  'ago',\n",
       "  'for',\n",
       "  'her',\n",
       "  'to',\n",
       "  'have',\n",
       "  'more',\n",
       "  'than',\n",
       "  'an',\n",
       "  'indistinct',\n",
       "  'remembrance',\n",
       "  'of',\n",
       "  'her',\n",
       "  'caresses',\n",
       "  ';',\n",
       "  'and',\n",
       "  'her',\n",
       "  'place',\n",
       "  'had',\n",
       "  'been',\n",
       "  'supplied',\n",
       "  'by',\n",
       "  'an',\n",
       "  'excellent',\n",
       "  'woman',\n",
       "  'as',\n",
       "  'governess',\n",
       "  ',',\n",
       "  'who',\n",
       "  'had',\n",
       "  'fallen',\n",
       "  'little',\n",
       "  'short',\n",
       "  'of',\n",
       "  'a',\n",
       "  'mother',\n",
       "  'in',\n",
       "  'affection',\n",
       "  '.']]"
      ]
     },
     "execution_count": 13,
     "metadata": {},
     "output_type": "execute_result"
    }
   ],
   "source": [
    "gberg_sents[0:6]"
   ]
  },
  {
   "cell_type": "code",
   "execution_count": 14,
   "metadata": {},
   "outputs": [
    {
     "data": {
      "text/plain": [
       "['She',\n",
       " 'was',\n",
       " 'the',\n",
       " 'youngest',\n",
       " 'of',\n",
       " 'the',\n",
       " 'two',\n",
       " 'daughters',\n",
       " 'of',\n",
       " 'a',\n",
       " 'most',\n",
       " 'affectionate',\n",
       " ',',\n",
       " 'indulgent',\n",
       " 'father',\n",
       " ';',\n",
       " 'and',\n",
       " 'had',\n",
       " ',',\n",
       " 'in',\n",
       " 'consequence',\n",
       " 'of',\n",
       " 'her',\n",
       " 'sister',\n",
       " \"'\",\n",
       " 's',\n",
       " 'marriage',\n",
       " ',',\n",
       " 'been',\n",
       " 'mistress',\n",
       " 'of',\n",
       " 'his',\n",
       " 'house',\n",
       " 'from',\n",
       " 'a',\n",
       " 'very',\n",
       " 'early',\n",
       " 'period',\n",
       " '.']"
      ]
     },
     "execution_count": 14,
     "metadata": {},
     "output_type": "execute_result"
    }
   ],
   "source": [
    "gberg_sents[4]"
   ]
  },
  {
   "cell_type": "code",
   "execution_count": 15,
   "metadata": {},
   "outputs": [
    {
     "data": {
      "text/plain": [
       "'father'"
      ]
     },
     "execution_count": 15,
     "metadata": {},
     "output_type": "execute_result"
    }
   ],
   "source": [
    "gberg_sents[4][14]"
   ]
  },
  {
   "cell_type": "code",
   "execution_count": 16,
   "metadata": {
    "scrolled": true
   },
   "outputs": [
    {
     "data": {
      "text/plain": [
       "['[', 'Emma', 'by', 'Jane', 'Austen', '1816', ']', ...]"
      ]
     },
     "execution_count": 16,
     "metadata": {},
     "output_type": "execute_result"
    }
   ],
   "source": [
    "# another convenient method that we don't immediately need: \n",
    "gutenberg.words() "
   ]
  },
  {
   "cell_type": "code",
   "execution_count": 17,
   "metadata": {},
   "outputs": [],
   "source": [
    "# gutenberg.words() is analogous to the following line, which need not be run: \n",
    "# word_tokenize(gutenberg.raw())"
   ]
  },
  {
   "cell_type": "code",
   "execution_count": 18,
   "metadata": {},
   "outputs": [
    {
     "data": {
      "text/plain": [
       "2621613"
      ]
     },
     "execution_count": 18,
     "metadata": {},
     "output_type": "execute_result"
    }
   ],
   "source": [
    "# our Gutenberg corpus is 2.6m words in length: \n",
    "len(gutenberg.words())"
   ]
  },
  {
   "cell_type": "markdown",
   "metadata": {},
   "source": [
    "#### Run word2vec"
   ]
  },
  {
   "cell_type": "code",
   "execution_count": 20,
   "metadata": {},
   "outputs": [],
   "source": [
    "# first argument is sentences. \n",
    "# second argument - number of dimensions in the word vector space. It is our choice we have given as 64\n",
    "# so we will have 64 dimensions vector space, each word vector will have 64 dimensions.\n",
    "# sg - stands for Skip gram - 1 means skip gram enabled\n",
    "# if sg = 0 means it will choose CBOW, if the input data is small go with SG else CBOW\n",
    "# window 10 means consider 10 words on either side of the target word (context words) 10 words on each side means totally 20 words\n",
    "# 20 words used to predict the target word\n",
    "# min_count 5, means a word should have occured atleast 5 times for it to appear in vector space or to create a word vector\n",
    "# workers - no of cores in the processor to use, again hyper parameter.\n",
    "model = Word2Vec(sentences=gberg_sents, vector_size=64, sg=1, window=10, min_count=5, workers=8)"
   ]
  },
  {
   "cell_type": "code",
   "execution_count": 21,
   "metadata": {},
   "outputs": [],
   "source": [
    "# save the model to a file.\n",
    "model.save('raw_gutenberg_model.w2v')"
   ]
  },
  {
   "cell_type": "markdown",
   "metadata": {},
   "source": [
    "#### Explore model"
   ]
  },
  {
   "cell_type": "code",
   "execution_count": 22,
   "metadata": {},
   "outputs": [],
   "source": [
    "# skip re-training the model if the model is already saved to a file\n",
    "# just load it.\n",
    "model = gensim.models.Word2Vec.load('raw_gutenberg_model.w2v')"
   ]
  },
  {
   "cell_type": "code",
   "execution_count": 24,
   "metadata": {},
   "outputs": [
    {
     "data": {
      "text/plain": [
       "array([ 0.2713596 , -0.32924688,  0.11472257,  0.3351441 , -0.30741057,\n",
       "       -0.23049717,  0.18597332, -0.50526196,  0.0210742 ,  0.39238462,\n",
       "        0.5664741 , -0.5492611 , -0.15522766, -0.19445723, -0.13773799,\n",
       "        0.99456644, -0.17534003,  0.2565941 , -0.28944844,  0.28690422,\n",
       "        0.16329953,  0.36687422,  0.07957038,  0.409416  ,  0.09103061,\n",
       "        0.56766564, -0.571075  ,  0.24915783,  0.04004098,  0.2911941 ,\n",
       "       -0.14861006, -0.05701988, -0.1547411 , -0.33097813,  0.02262263,\n",
       "       -0.15625168,  0.4689804 ,  0.32878602,  0.13954316, -0.12812825,\n",
       "       -0.47772878,  0.07650188,  0.08373575, -0.23279129,  0.1028755 ,\n",
       "        0.01376102,  0.10149986, -0.22131407,  0.08463605,  0.41793898,\n",
       "       -0.12431577, -0.38518965,  0.3131011 ,  0.08848778, -0.0461773 ,\n",
       "        0.33207992, -0.17040533, -0.02537598,  0.07207736,  0.25269946,\n",
       "       -0.1350164 , -0.0142925 ,  0.10114615, -0.17924385], dtype=float32)"
      ]
     },
     "execution_count": 24,
     "metadata": {},
     "output_type": "execute_result"
    }
   ],
   "source": [
    "# below line of code will print the word vector of dog in n-dimensional array form.\n",
    "# we have chose 64 dimensional array. So it will have 64 elements in the array.\n",
    "model.wv['dog']"
   ]
  },
  {
   "cell_type": "code",
   "execution_count": 25,
   "metadata": {},
   "outputs": [
    {
     "data": {
      "text/plain": [
       "64"
      ]
     },
     "execution_count": 25,
     "metadata": {},
     "output_type": "execute_result"
    }
   ],
   "source": [
    "len(model.wv['dog'])"
   ]
  },
  {
   "cell_type": "code",
   "execution_count": 26,
   "metadata": {},
   "outputs": [
    {
     "data": {
      "text/plain": [
       "[('puppy', 0.7888559103012085),\n",
       " ('thief', 0.7744528651237488),\n",
       " ('cage', 0.7598984241485596),\n",
       " ('broth', 0.7489614486694336),\n",
       " ('sweeper', 0.7468899488449097),\n",
       " ('butcher', 0.7442649006843567),\n",
       " ('cow', 0.7399811148643494),\n",
       " ('bridle', 0.7391263246536255),\n",
       " ('chimney', 0.7368165254592896),\n",
       " ('boy', 0.7342114448547363)]"
      ]
     },
     "execution_count": 26,
     "metadata": {},
     "output_type": "execute_result"
    }
   ],
   "source": [
    "# List the words which are closer to `dog` using euclidean distance.\n",
    "model.wv.most_similar('dog') # distance"
   ]
  },
  {
   "cell_type": "code",
   "execution_count": 27,
   "metadata": {},
   "outputs": [
    {
     "data": {
      "text/plain": [
       "[('suppose', 0.8353540897369385),\n",
       " ('contradict', 0.8350876569747925),\n",
       " ('manage', 0.8255674839019775),\n",
       " ('Mamma', 0.8251374363899231),\n",
       " ('awfully', 0.8210975527763367),\n",
       " ('know', 0.8210111260414124),\n",
       " ('really', 0.8178511261940002),\n",
       " ('believe', 0.8144370913505554),\n",
       " ('beaux', 0.813211977481842),\n",
       " ('NOW', 0.8130669593811035)]"
      ]
     },
     "execution_count": 27,
     "metadata": {},
     "output_type": "execute_result"
    }
   ],
   "source": [
    "model.wv.most_similar('think')"
   ]
  },
  {
   "cell_type": "code",
   "execution_count": 28,
   "metadata": {},
   "outputs": [
    {
     "data": {
      "text/plain": [
       "[('morning', 0.7813193202018738),\n",
       " ('night', 0.779412567615509),\n",
       " ('time', 0.7721558213233948),\n",
       " ('month', 0.752544105052948),\n",
       " ('week', 0.7454372644424438),\n",
       " ('evening', 0.7122092247009277),\n",
       " ('feasting', 0.6935468316078186),\n",
       " ('Saturday', 0.6819261312484741),\n",
       " ('Adar', 0.6806393265724182),\n",
       " ('fourteenth', 0.6693751811981201)]"
      ]
     },
     "execution_count": 28,
     "metadata": {},
     "output_type": "execute_result"
    }
   ],
   "source": [
    "model.wv.most_similar('day')"
   ]
  },
  {
   "cell_type": "code",
   "execution_count": 29,
   "metadata": {},
   "outputs": [
    {
     "data": {
      "text/plain": [
       "[('mother', 0.8717845678329468),\n",
       " ('brother', 0.857100784778595),\n",
       " ('sister', 0.8104619979858398),\n",
       " ('daughter', 0.7923604249954224),\n",
       " ('wife', 0.7680190801620483),\n",
       " ('uncle', 0.7439402341842651),\n",
       " ('Amnon', 0.7314168810844421),\n",
       " ('servant', 0.7286089658737183),\n",
       " ('bondwoman', 0.7266589403152466),\n",
       " ('younger', 0.7237505912780762)]"
      ]
     },
     "execution_count": 29,
     "metadata": {},
     "output_type": "execute_result"
    }
   ],
   "source": [
    "model.wv.most_similar('father')"
   ]
  },
  {
   "cell_type": "code",
   "execution_count": 30,
   "metadata": {},
   "outputs": [
    {
     "data": {
      "text/plain": [
       "'dog'"
      ]
     },
     "execution_count": 30,
     "metadata": {},
     "output_type": "execute_result"
    }
   ],
   "source": [
    "# out of 4 words, choose which is not related. \n",
    "# it uses euclidean distance between each of the element in the list\n",
    "# which is far away from all other elements in the list that will be marked as doesn't match or dissmilar\n",
    "model.wv.doesnt_match(\"mother father daughter dog\".split())"
   ]
  },
  {
   "cell_type": "code",
   "execution_count": 31,
   "metadata": {},
   "outputs": [
    {
     "data": {
      "text/plain": [
       "0.48597765"
      ]
     },
     "execution_count": 31,
     "metadata": {},
     "output_type": "execute_result"
    }
   ],
   "source": [
    "model.wv.similarity('father', 'dog')"
   ]
  },
  {
   "cell_type": "code",
   "execution_count": 32,
   "metadata": {
    "scrolled": true
   },
   "outputs": [
    {
     "data": {
      "text/plain": [
       "[('daughter', 0.7736457586288452),\n",
       " ('mother', 0.7729701995849609),\n",
       " ('wife', 0.7643260955810547),\n",
       " ('husband', 0.7586399912834167),\n",
       " ('sister', 0.7413561344146729),\n",
       " ('brother', 0.7309970259666443),\n",
       " ('Rachel', 0.7104281187057495),\n",
       " ('daughters', 0.6923649311065674),\n",
       " ('child', 0.678975522518158),\n",
       " ('Sarah', 0.6787348985671997)]"
      ]
     },
     "execution_count": 32,
     "metadata": {},
     "output_type": "execute_result"
    }
   ],
   "source": [
    "# close, but not quite; distinctly in female direction: \n",
    "# what happens is father - man + woman \n",
    "# vector arithmetic will happen as mentioned above. Result will be returned. \n",
    "model.wv.most_similar(positive=['father', 'woman'], negative=['man']) "
   ]
  },
  {
   "cell_type": "code",
   "execution_count": 33,
   "metadata": {},
   "outputs": [
    {
     "data": {
      "text/plain": [
       "[('Leah', 0.7589835524559021),\n",
       " ('daughter', 0.7383713722229004),\n",
       " ('wife', 0.7178788185119629),\n",
       " ('Rachel', 0.717748761177063),\n",
       " ('Sarai', 0.7163435816764832),\n",
       " ('Bethuel', 0.7106838226318359),\n",
       " ('Sarah', 0.7095574736595154),\n",
       " ('Hagar', 0.7044370174407959),\n",
       " ('Jephunneh', 0.7035619020462036),\n",
       " ('Abram', 0.7031012773513794)]"
      ]
     },
     "execution_count": 33,
     "metadata": {},
     "output_type": "execute_result"
    }
   ],
   "source": [
    "# more confident about this one: \n",
    "model.wv.most_similar(positive=['son', 'woman'], negative=['man']) "
   ]
  },
  {
   "cell_type": "code",
   "execution_count": 34,
   "metadata": {},
   "outputs": [
    {
     "data": {
      "text/plain": [
       "[('wife', 0.7204158306121826),\n",
       " ('child', 0.6890517473220825),\n",
       " ('widow', 0.6763985753059387),\n",
       " ('daughter', 0.6758059859275818),\n",
       " ('sister', 0.6665168404579163),\n",
       " ('mother', 0.6595192551612854),\n",
       " ('nurse', 0.650743842124939),\n",
       " ('maid', 0.6497228145599365),\n",
       " ('Rachel', 0.636143147945404),\n",
       " ('conceived', 0.623807430267334)]"
      ]
     },
     "execution_count": 34,
     "metadata": {},
     "output_type": "execute_result"
    }
   ],
   "source": [
    "model.wv.most_similar(positive=['husband', 'woman'], negative=['man']) "
   ]
  },
  {
   "cell_type": "code",
   "execution_count": 35,
   "metadata": {},
   "outputs": [
    {
     "data": {
      "text/plain": [
       "[('Sarah', 0.6889079213142395),\n",
       " ('Babylon', 0.680236279964447),\n",
       " ('Rachel', 0.6771531701087952),\n",
       " ('Leah', 0.6528046727180481),\n",
       " ('Padanaram', 0.6503288149833679),\n",
       " ('Abram', 0.6444354057312012),\n",
       " ('tribute', 0.641265869140625),\n",
       " ('queen', 0.6361493468284607),\n",
       " ('Vashti', 0.6355467438697815),\n",
       " ('Solomon', 0.6344469785690308),\n",
       " ('Sarai', 0.6311295628547668),\n",
       " ('Judah', 0.6270841360092163),\n",
       " ('Ephron', 0.6246798634529114),\n",
       " ('Laban', 0.6235942244529724),\n",
       " ('Bethuel', 0.6219090819358826),\n",
       " ('Jerusalem', 0.620144784450531),\n",
       " ('Abraham', 0.6173027157783508),\n",
       " ('Heth', 0.6169054508209229),\n",
       " ('daughter', 0.6160672307014465),\n",
       " ('servants', 0.6158027052879333),\n",
       " ('Assyria', 0.6147435307502747),\n",
       " ('Jerubbaal', 0.6138827204704285),\n",
       " ('Nebuchadnezzar', 0.6124151945114136),\n",
       " ('Cain', 0.6115320324897766),\n",
       " ('Rahab', 0.6108534932136536),\n",
       " ('sware', 0.6097025871276855),\n",
       " ('Hanun', 0.6094104647636414),\n",
       " ('Isaac', 0.6089671850204468),\n",
       " ('Pharaoh', 0.6072671413421631),\n",
       " ('Lot', 0.6064099073410034)]"
      ]
     },
     "execution_count": 35,
     "metadata": {},
     "output_type": "execute_result"
    }
   ],
   "source": [
    "model.wv.most_similar(positive=['king', 'woman'], negative=['man'], topn=30) "
   ]
  },
  {
   "cell_type": "code",
   "execution_count": 36,
   "metadata": {
    "scrolled": true
   },
   "outputs": [],
   "source": [
    "# impressive for such a small data set, without any cleaning, e.g., to lower case (covered next)"
   ]
  },
  {
   "cell_type": "markdown",
   "metadata": {},
   "source": [
    "#### Reduce word vector dimensionality with t-SNE"
   ]
  },
  {
   "cell_type": "code",
   "execution_count": 38,
   "metadata": {},
   "outputs": [
    {
     "data": {
      "text/plain": [
       "17011"
      ]
     },
     "execution_count": 38,
     "metadata": {},
     "output_type": "execute_result"
    }
   ],
   "source": [
    "# the input corpus has more than 2 million words, but our model reduced the words into 17000. Nothing bad here.\n",
    "len(model.wv.key_to_index)"
   ]
  },
  {
   "cell_type": "code",
   "execution_count": 39,
   "metadata": {},
   "outputs": [],
   "source": [
    "X = model.wv[model.wv.key_to_index]"
   ]
  },
  {
   "cell_type": "code",
   "execution_count": 40,
   "metadata": {},
   "outputs": [],
   "source": [
    "# so far we have created 64 dimensions vector space.\n",
    "# It is hard to visualize, so we have to reduce it to 2D or 3D for humans to visualize\n",
    "# for that reason we are using TNSE\n",
    "# n_components means the number of dimensions we want it can be either 2 or 3.\n",
    "# n_iter - means how many iterations you need to perform to reduce the word vectors to n_components dimensions\n",
    "# bigger the value of n_iter better the results of dimensionality reduction.\n",
    "tsne = TSNE(n_components=2, n_iter=1000) # 200 is minimum iter; default is 1000"
   ]
  },
  {
   "cell_type": "code",
   "execution_count": 41,
   "metadata": {},
   "outputs": [],
   "source": [
    "X_2d = tsne.fit_transform(X)"
   ]
  },
  {
   "cell_type": "code",
   "execution_count": 42,
   "metadata": {},
   "outputs": [
    {
     "data": {
      "text/plain": [
       "array([[-13.193214, -38.32847 ],\n",
       "       [-13.455554, -37.764153],\n",
       "       [-13.208204, -38.044792],\n",
       "       [-13.587155, -39.043606],\n",
       "       [-13.054964, -37.547115]], dtype=float32)"
      ]
     },
     "execution_count": 42,
     "metadata": {},
     "output_type": "execute_result"
    }
   ],
   "source": [
    "X_2d[0:5]"
   ]
  },
  {
   "cell_type": "code",
   "execution_count": 44,
   "metadata": {},
   "outputs": [],
   "source": [
    "# create DataFrame for storing results and plotting\n",
    "coords_df = pd.DataFrame(X_2d, columns=['x','y'])\n",
    "coords_df['token'] = model.wv.key_to_index.keys()"
   ]
  },
  {
   "cell_type": "code",
   "execution_count": 45,
   "metadata": {},
   "outputs": [
    {
     "data": {
      "text/html": [
       "<div>\n",
       "<style scoped>\n",
       "    .dataframe tbody tr th:only-of-type {\n",
       "        vertical-align: middle;\n",
       "    }\n",
       "\n",
       "    .dataframe tbody tr th {\n",
       "        vertical-align: top;\n",
       "    }\n",
       "\n",
       "    .dataframe thead th {\n",
       "        text-align: right;\n",
       "    }\n",
       "</style>\n",
       "<table border=\"1\" class=\"dataframe\">\n",
       "  <thead>\n",
       "    <tr style=\"text-align: right;\">\n",
       "      <th></th>\n",
       "      <th>x</th>\n",
       "      <th>y</th>\n",
       "      <th>token</th>\n",
       "    </tr>\n",
       "  </thead>\n",
       "  <tbody>\n",
       "    <tr>\n",
       "      <th>0</th>\n",
       "      <td>-13.193214</td>\n",
       "      <td>-38.328468</td>\n",
       "      <td>,</td>\n",
       "    </tr>\n",
       "    <tr>\n",
       "      <th>1</th>\n",
       "      <td>-13.455554</td>\n",
       "      <td>-37.764153</td>\n",
       "      <td>the</td>\n",
       "    </tr>\n",
       "    <tr>\n",
       "      <th>2</th>\n",
       "      <td>-13.208204</td>\n",
       "      <td>-38.044792</td>\n",
       "      <td>and</td>\n",
       "    </tr>\n",
       "    <tr>\n",
       "      <th>3</th>\n",
       "      <td>-13.587155</td>\n",
       "      <td>-39.043606</td>\n",
       "      <td>.</td>\n",
       "    </tr>\n",
       "    <tr>\n",
       "      <th>4</th>\n",
       "      <td>-13.054964</td>\n",
       "      <td>-37.547115</td>\n",
       "      <td>of</td>\n",
       "    </tr>\n",
       "  </tbody>\n",
       "</table>\n",
       "</div>"
      ],
      "text/plain": [
       "           x          y token\n",
       "0 -13.193214 -38.328468     ,\n",
       "1 -13.455554 -37.764153   the\n",
       "2 -13.208204 -38.044792   and\n",
       "3 -13.587155 -39.043606     .\n",
       "4 -13.054964 -37.547115    of"
      ]
     },
     "execution_count": 45,
     "metadata": {},
     "output_type": "execute_result"
    }
   ],
   "source": [
    "coords_df.head()"
   ]
  },
  {
   "cell_type": "code",
   "execution_count": 46,
   "metadata": {},
   "outputs": [],
   "source": [
    "# load the TSNE fit transform output to a file, so you need not spend so much time again transforming.\n",
    "coords_df.to_csv('raw_gutenberg_tsne.csv', index=False)"
   ]
  },
  {
   "cell_type": "markdown",
   "metadata": {},
   "source": [
    "#### Visualize 2D representation of word vectors"
   ]
  },
  {
   "cell_type": "code",
   "execution_count": 47,
   "metadata": {},
   "outputs": [],
   "source": [
    "coords_df = pd.read_csv('raw_gutenberg_tsne.csv')"
   ]
  },
  {
   "cell_type": "code",
   "execution_count": 48,
   "metadata": {},
   "outputs": [
    {
     "data": {
      "text/html": [
       "<style>\n",
       "        .bk-notebook-logo {\n",
       "            display: block;\n",
       "            width: 20px;\n",
       "            height: 20px;\n",
       "            background-image: url(data:image/png;base64,iVBORw0KGgoAAAANSUhEUgAAABQAAAAUCAYAAACNiR0NAAAABHNCSVQICAgIfAhkiAAAAAlwSFlzAAALEgAACxIB0t1+/AAAABx0RVh0U29mdHdhcmUAQWRvYmUgRmlyZXdvcmtzIENTNui8sowAAAOkSURBVDiNjZRtaJVlGMd/1/08zzln5zjP1LWcU9N0NkN8m2CYjpgQYQXqSs0I84OLIC0hkEKoPtiH3gmKoiJDU7QpLgoLjLIQCpEsNJ1vqUOdO7ppbuec5+V+rj4ctwzd8IIbbi6u+8f1539dt3A78eXC7QizUF7gyV1fD1Yqg4JWz84yffhm0qkFqBogB9rM8tZdtwVsPUhWhGcFJngGeWrPzHm5oaMmkfEg1usvLFyc8jLRqDOMru7AyC8saQr7GG7f5fvDeH7Ej8CM66nIF+8yngt6HWaKh7k49Soy9nXurCi1o3qUbS3zWfrYeQDTB/Qj6kX6Ybhw4B+bOYoLKCC9H3Nu/leUTZ1JdRWkkn2ldcCamzrcf47KKXdAJllSlxAOkRgyHsGC/zRday5Qld9DyoM4/q/rUoy/CXh3jzOu3bHUVZeU+DEn8FInkPBFlu3+nW3Nw0mk6vCDiWg8CeJaxEwuHS3+z5RgY+YBR6V1Z1nxSOfoaPa4LASWxxdNp+VWTk7+4vzaou8v8PN+xo+KY2xsw6une2frhw05CTYOmQvsEhjhWjn0bmXPjpE1+kplmmkP3suftwTubK9Vq22qKmrBhpY4jvd5afdRA3wGjFAgcnTK2s4hY0/GPNIb0nErGMCRxWOOX64Z8RAC4oCXdklmEvcL8o0BfkNK4lUg9HTl+oPlQxdNo3Mg4Nv175e/1LDGzZen30MEjRUtmXSfiTVu1kK8W4txyV6BMKlbgk3lMwYCiusNy9fVfvvwMxv8Ynl6vxoByANLTWplvuj/nF9m2+PDtt1eiHPBr1oIfhCChQMBw6Aw0UulqTKZdfVvfG7VcfIqLG9bcldL/+pdWTLxLUy8Qq38heUIjh4XlzZxzQm19lLFlr8vdQ97rjZVOLf8nclzckbcD4wxXMidpX30sFd37Fv/GtwwhzhxGVAprjbg0gCAEeIgwCZyTV2Z1REEW8O4py0wsjeloKoMr6iCY6dP92H6Vw/oTyICIthibxjm/DfN9lVz8IqtqKYLUXfoKVMVQVVJOElGjrnnUt9T9wbgp8AyYKaGlqingHZU/uG2NTZSVqwHQTWkx9hxjkpWDaCg6Ckj5qebgBVbT3V3NNXMSiWSDdGV3hrtzla7J+duwPOToIg42ChPQOQjspnSlp1V+Gjdged7+8UN5CRAV7a5EdFNwCjEaBR27b3W890TE7g24NAP/mMDXRWrGoFPQI9ls/MWO2dWFAar/xcOIImbbpA3zgAAAABJRU5ErkJggg==);\n",
       "        }\n",
       "    </style>\n",
       "    <div>\n",
       "        <a href=\"https://bokeh.org\" target=\"_blank\" class=\"bk-notebook-logo\"></a>\n",
       "        <span id=\"fac9ed11-c814-4419-9dd9-4d7629dadc97\">Loading BokehJS ...</span>\n",
       "    </div>\n"
      ]
     },
     "metadata": {},
     "output_type": "display_data"
    },
    {
     "data": {
      "application/javascript": [
       "(function(root) {\n",
       "  function now() {\n",
       "    return new Date();\n",
       "  }\n",
       "\n",
       "  const force = true;\n",
       "\n",
       "  if (typeof root._bokeh_onload_callbacks === \"undefined\" || force === true) {\n",
       "    root._bokeh_onload_callbacks = [];\n",
       "    root._bokeh_is_loading = undefined;\n",
       "  }\n",
       "\n",
       "const JS_MIME_TYPE = 'application/javascript';\n",
       "  const HTML_MIME_TYPE = 'text/html';\n",
       "  const EXEC_MIME_TYPE = 'application/vnd.bokehjs_exec.v0+json';\n",
       "  const CLASS_NAME = 'output_bokeh rendered_html';\n",
       "\n",
       "  /**\n",
       "   * Render data to the DOM node\n",
       "   */\n",
       "  function render(props, node) {\n",
       "    const script = document.createElement(\"script\");\n",
       "    node.appendChild(script);\n",
       "  }\n",
       "\n",
       "  /**\n",
       "   * Handle when an output is cleared or removed\n",
       "   */\n",
       "  function handleClearOutput(event, handle) {\n",
       "    const cell = handle.cell;\n",
       "\n",
       "    const id = cell.output_area._bokeh_element_id;\n",
       "    const server_id = cell.output_area._bokeh_server_id;\n",
       "    // Clean up Bokeh references\n",
       "    if (id != null && id in Bokeh.index) {\n",
       "      Bokeh.index[id].model.document.clear();\n",
       "      delete Bokeh.index[id];\n",
       "    }\n",
       "\n",
       "    if (server_id !== undefined) {\n",
       "      // Clean up Bokeh references\n",
       "      const cmd_clean = \"from bokeh.io.state import curstate; print(curstate().uuid_to_server['\" + server_id + \"'].get_sessions()[0].document.roots[0]._id)\";\n",
       "      cell.notebook.kernel.execute(cmd_clean, {\n",
       "        iopub: {\n",
       "          output: function(msg) {\n",
       "            const id = msg.content.text.trim();\n",
       "            if (id in Bokeh.index) {\n",
       "              Bokeh.index[id].model.document.clear();\n",
       "              delete Bokeh.index[id];\n",
       "            }\n",
       "          }\n",
       "        }\n",
       "      });\n",
       "      // Destroy server and session\n",
       "      const cmd_destroy = \"import bokeh.io.notebook as ion; ion.destroy_server('\" + server_id + \"')\";\n",
       "      cell.notebook.kernel.execute(cmd_destroy);\n",
       "    }\n",
       "  }\n",
       "\n",
       "  /**\n",
       "   * Handle when a new output is added\n",
       "   */\n",
       "  function handleAddOutput(event, handle) {\n",
       "    const output_area = handle.output_area;\n",
       "    const output = handle.output;\n",
       "\n",
       "    // limit handleAddOutput to display_data with EXEC_MIME_TYPE content only\n",
       "    if ((output.output_type != \"display_data\") || (!Object.prototype.hasOwnProperty.call(output.data, EXEC_MIME_TYPE))) {\n",
       "      return\n",
       "    }\n",
       "\n",
       "    const toinsert = output_area.element.find(\".\" + CLASS_NAME.split(' ')[0]);\n",
       "\n",
       "    if (output.metadata[EXEC_MIME_TYPE][\"id\"] !== undefined) {\n",
       "      toinsert[toinsert.length - 1].firstChild.textContent = output.data[JS_MIME_TYPE];\n",
       "      // store reference to embed id on output_area\n",
       "      output_area._bokeh_element_id = output.metadata[EXEC_MIME_TYPE][\"id\"];\n",
       "    }\n",
       "    if (output.metadata[EXEC_MIME_TYPE][\"server_id\"] !== undefined) {\n",
       "      const bk_div = document.createElement(\"div\");\n",
       "      bk_div.innerHTML = output.data[HTML_MIME_TYPE];\n",
       "      const script_attrs = bk_div.children[0].attributes;\n",
       "      for (let i = 0; i < script_attrs.length; i++) {\n",
       "        toinsert[toinsert.length - 1].firstChild.setAttribute(script_attrs[i].name, script_attrs[i].value);\n",
       "        toinsert[toinsert.length - 1].firstChild.textContent = bk_div.children[0].textContent\n",
       "      }\n",
       "      // store reference to server id on output_area\n",
       "      output_area._bokeh_server_id = output.metadata[EXEC_MIME_TYPE][\"server_id\"];\n",
       "    }\n",
       "  }\n",
       "\n",
       "  function register_renderer(events, OutputArea) {\n",
       "\n",
       "    function append_mime(data, metadata, element) {\n",
       "      // create a DOM node to render to\n",
       "      const toinsert = this.create_output_subarea(\n",
       "        metadata,\n",
       "        CLASS_NAME,\n",
       "        EXEC_MIME_TYPE\n",
       "      );\n",
       "      this.keyboard_manager.register_events(toinsert);\n",
       "      // Render to node\n",
       "      const props = {data: data, metadata: metadata[EXEC_MIME_TYPE]};\n",
       "      render(props, toinsert[toinsert.length - 1]);\n",
       "      element.append(toinsert);\n",
       "      return toinsert\n",
       "    }\n",
       "\n",
       "    /* Handle when an output is cleared or removed */\n",
       "    events.on('clear_output.CodeCell', handleClearOutput);\n",
       "    events.on('delete.Cell', handleClearOutput);\n",
       "\n",
       "    /* Handle when a new output is added */\n",
       "    events.on('output_added.OutputArea', handleAddOutput);\n",
       "\n",
       "    /**\n",
       "     * Register the mime type and append_mime function with output_area\n",
       "     */\n",
       "    OutputArea.prototype.register_mime_type(EXEC_MIME_TYPE, append_mime, {\n",
       "      /* Is output safe? */\n",
       "      safe: true,\n",
       "      /* Index of renderer in `output_area.display_order` */\n",
       "      index: 0\n",
       "    });\n",
       "  }\n",
       "\n",
       "  // register the mime type if in Jupyter Notebook environment and previously unregistered\n",
       "  if (root.Jupyter !== undefined) {\n",
       "    const events = require('base/js/events');\n",
       "    const OutputArea = require('notebook/js/outputarea').OutputArea;\n",
       "\n",
       "    if (OutputArea.prototype.mime_types().indexOf(EXEC_MIME_TYPE) == -1) {\n",
       "      register_renderer(events, OutputArea);\n",
       "    }\n",
       "  }\n",
       "  if (typeof (root._bokeh_timeout) === \"undefined\" || force === true) {\n",
       "    root._bokeh_timeout = Date.now() + 5000;\n",
       "    root._bokeh_failed_load = false;\n",
       "  }\n",
       "\n",
       "  const NB_LOAD_WARNING = {'data': {'text/html':\n",
       "     \"<div style='background-color: #fdd'>\\n\"+\n",
       "     \"<p>\\n\"+\n",
       "     \"BokehJS does not appear to have successfully loaded. If loading BokehJS from CDN, this \\n\"+\n",
       "     \"may be due to a slow or bad network connection. Possible fixes:\\n\"+\n",
       "     \"</p>\\n\"+\n",
       "     \"<ul>\\n\"+\n",
       "     \"<li>re-rerun `output_notebook()` to attempt to load from CDN again, or</li>\\n\"+\n",
       "     \"<li>use INLINE resources instead, as so:</li>\\n\"+\n",
       "     \"</ul>\\n\"+\n",
       "     \"<code>\\n\"+\n",
       "     \"from bokeh.resources import INLINE\\n\"+\n",
       "     \"output_notebook(resources=INLINE)\\n\"+\n",
       "     \"</code>\\n\"+\n",
       "     \"</div>\"}};\n",
       "\n",
       "  function display_loaded() {\n",
       "    const el = document.getElementById(\"fac9ed11-c814-4419-9dd9-4d7629dadc97\");\n",
       "    if (el != null) {\n",
       "      el.textContent = \"BokehJS is loading...\";\n",
       "    }\n",
       "    if (root.Bokeh !== undefined) {\n",
       "      if (el != null) {\n",
       "        el.textContent = \"BokehJS \" + root.Bokeh.version + \" successfully loaded.\";\n",
       "      }\n",
       "    } else if (Date.now() < root._bokeh_timeout) {\n",
       "      setTimeout(display_loaded, 100)\n",
       "    }\n",
       "  }\n",
       "\n",
       "  function run_callbacks() {\n",
       "    try {\n",
       "      root._bokeh_onload_callbacks.forEach(function(callback) {\n",
       "        if (callback != null)\n",
       "          callback();\n",
       "      });\n",
       "    } finally {\n",
       "      delete root._bokeh_onload_callbacks\n",
       "    }\n",
       "    console.debug(\"Bokeh: all callbacks have finished\");\n",
       "  }\n",
       "\n",
       "  function load_libs(css_urls, js_urls, callback) {\n",
       "    if (css_urls == null) css_urls = [];\n",
       "    if (js_urls == null) js_urls = [];\n",
       "\n",
       "    root._bokeh_onload_callbacks.push(callback);\n",
       "    if (root._bokeh_is_loading > 0) {\n",
       "      console.debug(\"Bokeh: BokehJS is being loaded, scheduling callback at\", now());\n",
       "      return null;\n",
       "    }\n",
       "    if (js_urls == null || js_urls.length === 0) {\n",
       "      run_callbacks();\n",
       "      return null;\n",
       "    }\n",
       "    console.debug(\"Bokeh: BokehJS not loaded, scheduling load and callback at\", now());\n",
       "    root._bokeh_is_loading = css_urls.length + js_urls.length;\n",
       "\n",
       "    function on_load() {\n",
       "      root._bokeh_is_loading--;\n",
       "      if (root._bokeh_is_loading === 0) {\n",
       "        console.debug(\"Bokeh: all BokehJS libraries/stylesheets loaded\");\n",
       "        run_callbacks()\n",
       "      }\n",
       "    }\n",
       "\n",
       "    function on_error(url) {\n",
       "      console.error(\"failed to load \" + url);\n",
       "    }\n",
       "\n",
       "    for (let i = 0; i < css_urls.length; i++) {\n",
       "      const url = css_urls[i];\n",
       "      const element = document.createElement(\"link\");\n",
       "      element.onload = on_load;\n",
       "      element.onerror = on_error.bind(null, url);\n",
       "      element.rel = \"stylesheet\";\n",
       "      element.type = \"text/css\";\n",
       "      element.href = url;\n",
       "      console.debug(\"Bokeh: injecting link tag for BokehJS stylesheet: \", url);\n",
       "      document.body.appendChild(element);\n",
       "    }\n",
       "\n",
       "    for (let i = 0; i < js_urls.length; i++) {\n",
       "      const url = js_urls[i];\n",
       "      const element = document.createElement('script');\n",
       "      element.onload = on_load;\n",
       "      element.onerror = on_error.bind(null, url);\n",
       "      element.async = false;\n",
       "      element.src = url;\n",
       "      console.debug(\"Bokeh: injecting script tag for BokehJS library: \", url);\n",
       "      document.head.appendChild(element);\n",
       "    }\n",
       "  };\n",
       "\n",
       "  function inject_raw_css(css) {\n",
       "    const element = document.createElement(\"style\");\n",
       "    element.appendChild(document.createTextNode(css));\n",
       "    document.body.appendChild(element);\n",
       "  }\n",
       "\n",
       "  const js_urls = [\"https://cdn.bokeh.org/bokeh/release/bokeh-3.2.1.min.js\", \"https://cdn.bokeh.org/bokeh/release/bokeh-gl-3.2.1.min.js\", \"https://cdn.bokeh.org/bokeh/release/bokeh-widgets-3.2.1.min.js\", \"https://cdn.bokeh.org/bokeh/release/bokeh-tables-3.2.1.min.js\", \"https://cdn.bokeh.org/bokeh/release/bokeh-mathjax-3.2.1.min.js\"];\n",
       "  const css_urls = [];\n",
       "\n",
       "  const inline_js = [    function(Bokeh) {\n",
       "      Bokeh.set_log_level(\"info\");\n",
       "    },\n",
       "function(Bokeh) {\n",
       "    }\n",
       "  ];\n",
       "\n",
       "  function run_inline_js() {\n",
       "    if (root.Bokeh !== undefined || force === true) {\n",
       "          for (let i = 0; i < inline_js.length; i++) {\n",
       "      inline_js[i].call(root, root.Bokeh);\n",
       "    }\n",
       "if (force === true) {\n",
       "        display_loaded();\n",
       "      }} else if (Date.now() < root._bokeh_timeout) {\n",
       "      setTimeout(run_inline_js, 100);\n",
       "    } else if (!root._bokeh_failed_load) {\n",
       "      console.log(\"Bokeh: BokehJS failed to load within specified timeout.\");\n",
       "      root._bokeh_failed_load = true;\n",
       "    } else if (force !== true) {\n",
       "      const cell = $(document.getElementById(\"fac9ed11-c814-4419-9dd9-4d7629dadc97\")).parents('.cell').data().cell;\n",
       "      cell.output_area.append_execute_result(NB_LOAD_WARNING)\n",
       "    }\n",
       "  }\n",
       "\n",
       "  if (root._bokeh_is_loading === 0) {\n",
       "    console.debug(\"Bokeh: BokehJS loaded, going straight to plotting\");\n",
       "    run_inline_js();\n",
       "  } else {\n",
       "    load_libs(css_urls, js_urls, function() {\n",
       "      console.debug(\"Bokeh: BokehJS plotting callback run at\", now());\n",
       "      run_inline_js();\n",
       "    });\n",
       "  }\n",
       "}(window));"
      ],
      "application/vnd.bokehjs_load.v0+json": "(function(root) {\n  function now() {\n    return new Date();\n  }\n\n  const force = true;\n\n  if (typeof root._bokeh_onload_callbacks === \"undefined\" || force === true) {\n    root._bokeh_onload_callbacks = [];\n    root._bokeh_is_loading = undefined;\n  }\n\n\n  if (typeof (root._bokeh_timeout) === \"undefined\" || force === true) {\n    root._bokeh_timeout = Date.now() + 5000;\n    root._bokeh_failed_load = false;\n  }\n\n  const NB_LOAD_WARNING = {'data': {'text/html':\n     \"<div style='background-color: #fdd'>\\n\"+\n     \"<p>\\n\"+\n     \"BokehJS does not appear to have successfully loaded. If loading BokehJS from CDN, this \\n\"+\n     \"may be due to a slow or bad network connection. Possible fixes:\\n\"+\n     \"</p>\\n\"+\n     \"<ul>\\n\"+\n     \"<li>re-rerun `output_notebook()` to attempt to load from CDN again, or</li>\\n\"+\n     \"<li>use INLINE resources instead, as so:</li>\\n\"+\n     \"</ul>\\n\"+\n     \"<code>\\n\"+\n     \"from bokeh.resources import INLINE\\n\"+\n     \"output_notebook(resources=INLINE)\\n\"+\n     \"</code>\\n\"+\n     \"</div>\"}};\n\n  function display_loaded() {\n    const el = document.getElementById(\"fac9ed11-c814-4419-9dd9-4d7629dadc97\");\n    if (el != null) {\n      el.textContent = \"BokehJS is loading...\";\n    }\n    if (root.Bokeh !== undefined) {\n      if (el != null) {\n        el.textContent = \"BokehJS \" + root.Bokeh.version + \" successfully loaded.\";\n      }\n    } else if (Date.now() < root._bokeh_timeout) {\n      setTimeout(display_loaded, 100)\n    }\n  }\n\n  function run_callbacks() {\n    try {\n      root._bokeh_onload_callbacks.forEach(function(callback) {\n        if (callback != null)\n          callback();\n      });\n    } finally {\n      delete root._bokeh_onload_callbacks\n    }\n    console.debug(\"Bokeh: all callbacks have finished\");\n  }\n\n  function load_libs(css_urls, js_urls, callback) {\n    if (css_urls == null) css_urls = [];\n    if (js_urls == null) js_urls = [];\n\n    root._bokeh_onload_callbacks.push(callback);\n    if (root._bokeh_is_loading > 0) {\n      console.debug(\"Bokeh: BokehJS is being loaded, scheduling callback at\", now());\n      return null;\n    }\n    if (js_urls == null || js_urls.length === 0) {\n      run_callbacks();\n      return null;\n    }\n    console.debug(\"Bokeh: BokehJS not loaded, scheduling load and callback at\", now());\n    root._bokeh_is_loading = css_urls.length + js_urls.length;\n\n    function on_load() {\n      root._bokeh_is_loading--;\n      if (root._bokeh_is_loading === 0) {\n        console.debug(\"Bokeh: all BokehJS libraries/stylesheets loaded\");\n        run_callbacks()\n      }\n    }\n\n    function on_error(url) {\n      console.error(\"failed to load \" + url);\n    }\n\n    for (let i = 0; i < css_urls.length; i++) {\n      const url = css_urls[i];\n      const element = document.createElement(\"link\");\n      element.onload = on_load;\n      element.onerror = on_error.bind(null, url);\n      element.rel = \"stylesheet\";\n      element.type = \"text/css\";\n      element.href = url;\n      console.debug(\"Bokeh: injecting link tag for BokehJS stylesheet: \", url);\n      document.body.appendChild(element);\n    }\n\n    for (let i = 0; i < js_urls.length; i++) {\n      const url = js_urls[i];\n      const element = document.createElement('script');\n      element.onload = on_load;\n      element.onerror = on_error.bind(null, url);\n      element.async = false;\n      element.src = url;\n      console.debug(\"Bokeh: injecting script tag for BokehJS library: \", url);\n      document.head.appendChild(element);\n    }\n  };\n\n  function inject_raw_css(css) {\n    const element = document.createElement(\"style\");\n    element.appendChild(document.createTextNode(css));\n    document.body.appendChild(element);\n  }\n\n  const js_urls = [\"https://cdn.bokeh.org/bokeh/release/bokeh-3.2.1.min.js\", \"https://cdn.bokeh.org/bokeh/release/bokeh-gl-3.2.1.min.js\", \"https://cdn.bokeh.org/bokeh/release/bokeh-widgets-3.2.1.min.js\", \"https://cdn.bokeh.org/bokeh/release/bokeh-tables-3.2.1.min.js\", \"https://cdn.bokeh.org/bokeh/release/bokeh-mathjax-3.2.1.min.js\"];\n  const css_urls = [];\n\n  const inline_js = [    function(Bokeh) {\n      Bokeh.set_log_level(\"info\");\n    },\nfunction(Bokeh) {\n    }\n  ];\n\n  function run_inline_js() {\n    if (root.Bokeh !== undefined || force === true) {\n          for (let i = 0; i < inline_js.length; i++) {\n      inline_js[i].call(root, root.Bokeh);\n    }\nif (force === true) {\n        display_loaded();\n      }} else if (Date.now() < root._bokeh_timeout) {\n      setTimeout(run_inline_js, 100);\n    } else if (!root._bokeh_failed_load) {\n      console.log(\"Bokeh: BokehJS failed to load within specified timeout.\");\n      root._bokeh_failed_load = true;\n    } else if (force !== true) {\n      const cell = $(document.getElementById(\"fac9ed11-c814-4419-9dd9-4d7629dadc97\")).parents('.cell').data().cell;\n      cell.output_area.append_execute_result(NB_LOAD_WARNING)\n    }\n  }\n\n  if (root._bokeh_is_loading === 0) {\n    console.debug(\"Bokeh: BokehJS loaded, going straight to plotting\");\n    run_inline_js();\n  } else {\n    load_libs(css_urls, js_urls, function() {\n      console.debug(\"Bokeh: BokehJS plotting callback run at\", now());\n      run_inline_js();\n    });\n  }\n}(window));"
     },
     "metadata": {},
     "output_type": "display_data"
    }
   ],
   "source": [
    "output_notebook() # output bokeh plots inline in notebook"
   ]
  },
  {
   "cell_type": "code",
   "execution_count": 49,
   "metadata": {},
   "outputs": [],
   "source": [
    "subset_df = coords_df.sample(n=5000)"
   ]
  },
  {
   "cell_type": "code",
   "execution_count": 51,
   "metadata": {},
   "outputs": [],
   "source": [
    "p = figure(width=800, height=800)\n",
    "_ = p.text(x=subset_df.x, y=subset_df.y, text=subset_df.token)"
   ]
  },
  {
   "cell_type": "code",
   "execution_count": 52,
   "metadata": {},
   "outputs": [
    {
     "data": {
      "text/html": [
       "\n",
       "  <div id=\"f47045cf-f67c-4272-a3c4-38635416f6cc\" data-root-id=\"p1004\" style=\"display: contents;\"></div>\n"
      ]
     },
     "metadata": {},
     "output_type": "display_data"
    },
    {
     "data": {
      "application/javascript": [
       "(function(root) {\n",
       "  function embed_document(root) {\n",
       "  const docs_json = {\"f896dc4c-851d-4f2c-9b97-d460b8438a68\":{\"version\":\"3.2.1\",\"title\":\"Bokeh Application\",\"roots\":[{\"type\":\"object\",\"name\":\"Figure\",\"id\":\"p1004\",\"attributes\":{\"width\":800,\"height\":800,\"x_range\":{\"type\":\"object\",\"name\":\"DataRange1d\",\"id\":\"p1005\"},\"y_range\":{\"type\":\"object\",\"name\":\"DataRange1d\",\"id\":\"p1006\"},\"x_scale\":{\"type\":\"object\",\"name\":\"LinearScale\",\"id\":\"p1013\"},\"y_scale\":{\"type\":\"object\",\"name\":\"LinearScale\",\"id\":\"p1014\"},\"title\":{\"type\":\"object\",\"name\":\"Title\",\"id\":\"p1011\"},\"renderers\":[{\"type\":\"object\",\"name\":\"GlyphRenderer\",\"id\":\"p1038\",\"attributes\":{\"data_source\":{\"type\":\"object\",\"name\":\"ColumnDataSource\",\"id\":\"p1032\",\"attributes\":{\"selected\":{\"type\":\"object\",\"name\":\"Selection\",\"id\":\"p1033\",\"attributes\":{\"indices\":[],\"line_indices\":[]}},\"selection_policy\":{\"type\":\"object\",\"name\":\"UnionRenderers\",\"id\":\"p1034\"},\"data\":{\"type\":\"map\",\"entries\":[[\"x\",{\"type\":\"ndarray\",\"array\":{\"type\":\"bytes\",\"data\":\"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\"},\"shape\":[5000],\"dtype\":\"float64\",\"order\":\"little\"}],[\"y\",{\"type\":\"ndarray\",\"array\":{\"type\":\"bytes\",\"data\":\"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\"},\"shape\":[5000],\"dtype\":\"float64\",\"order\":\"little\"}],[\"text\",{\"type\":\"ndarray\",\"array\":[\"merriment\",\"residue\",\"prudent\",\"pan\",\"leaping\",\"subterraneous\",\"merchants\",\"unimportant\",\"issued\",\"consuming\",\"devour\",\"Cox\",\"stirs\",\"settlements\",\"costs\",\"strength\",\"Above\",\"breaking\",\"neere\",\"Play\",\"furbished\",\"bigness\",\"builds\",\"Grammar\",\"ropes\",\"True\",\"Nevertheless\",\"Souldier\",\"forts\",\"Eshcol\",\"definite\",\"Steady\",\"borders\",\"Mediterranean\",\"Ashkelon\",\"isn\",\"simultaneously\",\"froward\",\"entirely\",\"Bell\",\"fold\",\"manhood\",\"Boulnois\",\"Blown\",\"rumbly\",\"Besides\",\"observe\",\"jot\",\"circumference\",\"bolts\",\"hill\",\"wizards\",\"broke\",\"puffs\",\"opening\",\"drawer\",\"threw\",\"projections\",\"sap\",\"owe\",\"hid\",\"61\",\"early\",\"steal\",\"circular\",\"Kibrothhattaavah\",\"treadeth\",\"submerged\",\"cavern\",\"equal\",\"drest\",\"succession\",\"towing\",\"custom\",\"theme\",\"Noph\",\"finally\",\"Calphurnia\",\"snow\",\"bulky\",\"steadfastly\",\"shod\",\"partial\",\"wipe\",\"Talmai\",\"Faith\",\"star\",\"craftsmen\",\"vapoury\",\"rat\",\"discretion\",\"worth\",\"interruption\",\"Elinor\",\"hieroglyphic\",\"couples\",\"saved\",\"toss\",\"Charles\",\"humid\",\"cosy\",\"policy\",\"wept\",\"Praise\",\"arranging\",\"watches\",\"faintest\",\"oar\",\"east\",\"questionings\",\"together\",\"pursuit\",\"artistic\",\"heritage\",\"associates\",\"Although\",\"complained\",\"unprecedented\",\"lobster\",\"forever\",\"Jared\",\"established\",\"knowledge\",\"armes\",\"END\",\"cipher\",\"Law\",\"namely\",\"securely\",\"turtledoves\",\"loaf\",\"sliding\",\"strengtheneth\",\"pitcher\",\"flying\",\"sleepers\",\"unwell\",\"Arme\",\"sparkle\",\"Levites\",\"squeezed\",\"Conscience\",\"--\\\"\",\"tough\",\"ioy\",\"pluckt\",\"mocketh\",\"vigorously\",\"nightly\",\"Jehohanan\",\"exchange\",\"strew\",\"Weymouth\",\"justification\",\"State\",\"potency\",\"inconvenient\",\"Fancy\",\"stage\",\"transient\",\"dirty\",\"neyther\",\"Titus\",\"sister\",\"skirts\",\"maiden\",\"riding\",\"weary\",\"vaguely\",\"MacIan\",\"fortnight\",\"haunted\",\"lift\",\"gleaming\",\"dissimilar\",\"thread\",\"Otherwise\",\"Starre\",\"Every\",\"uprightness\",\"heap\",\"moonlit\",\"thighs\",\"pantry\",\"slaying\",\"corresponding\",\"transparent\",\"Nehemiah\",\"Guildensterne\",\"mustn\",\"quitted\",\"fanatic\",\"offered\",\"salted\",\"measures\",\"vibration\",\"sable\",\"before\",\"Cook\",\"scorching\",\"cleanse\",\"Flood\",\"listening\",\"servile\",\"animals\",\"Middletons\",\"raillery\",\"rival\",\"comer\",\"Whereto\",\"Lystra\",\"underneath\",\"belief\",\"dimensions\",\"throbbing\",\"seals\",\"pyramid\",\"dart\",\"mines\",\"tricks\",\"Adar\",\"locks\",\"traveler\",\"dreams\",\"gleaned\",\"festive\",\"Strong\",\"supplication\",\"ribs\",\"masts\",\"groping\",\"lips\",\"readers\",\"fain\",\"accosted\",\"fulfilling\",\"lying\",\"passest\",\"Kareah\",\"Beetle\",\"Excellent\",\"served\",\"Grossenmark\",\"duly\",\"screw\",\"Abdiel\",\"shine\",\"excused\",\"increasing\",\"mechanics\",\"wave\",\"Jotham\",\"smells\",\"backwards\",\"scared\",\"eyes\",\"inclosed\",\"disciple\",\"knit\",\"bare\",\"governess\",\"Muskrat\",\"longed\",\"farmers\",\"carrying\",\"dented\",\"April\",\"lights\",\"wafted\",\"greeted\",\"determined\",\"Croker\",\"porters\",\"Bethaven\",\"85\",\"struggle\",\"fig\",\"governor\",\"glimpses\",\"wickedness\",\"fifty\",\"experience\",\"protested\",\"cured\",\"Restore\",\"tub\",\"keen\",\"ascending\",\"whatsoever\",\"interval\",\"freer\",\"esteemed\",\"meadow\",\"Pratt\",\"marriage\",\"dusk\",\"humiliation\",\"elude\",\"Martha\",\"wavering\",\"thundered\",\"charge\",\"week\",\"betwixt\",\"sufferable\",\"efforts\",\"jaw\",\"comforters\",\"flapping\",\"ravenous\",\"glaring\",\"Ziklag\",\"Ham\",\"L\",\"rose\",\"Admah\",\"betrothed\",\"Lotan\",\"Hosea\",\"refined\",\"inattention\",\"sin\",\"Clouds\",\"slapping\",\"bounds\",\"indignant\",\"popularly\",\"Highland\",\"cheering\",\"sack\",\"collection\",\"Finn\",\"enlightened\",\"strongest\",\"imitate\",\"neighboring\",\"slightest\",\"raised\",\"Many\",\"Asher\",\".\\\"'\",\"arguments\",\"myth\",\"proof\",\"Another\",\"pate\",\"LITTLE\",\"Heere\",\"sensations\",\"succeeding\",\"complaint\",\"launched\",\"justify\",\"wander\",\"Ships\",\"Nantucketers\",\"bountifully\",\"sever\",\"snatching\",\"banks\",\"relent\",\"hearken\",\"Drew\",\"fall\",\"Admiral\",\"mar\",\"enclosed\",\"hysterics\",\"route\",\"peerless\",\"closer\",\"social\",\"decrees\",\"Ho\",\"spice\",\"attributed\",\"horrible\",\"idiotic\",\"yearly\",\",\\\"\",\"fulfil\",\"collar\",\"induce\",\"Jazer\",\"purposed\",\"tool\",\"convinced\",\"sittest\",\"statues\",\"goodliest\",\"thoughtful\",\"Body\",\"WILLIAM\",\"romantic\",\"barefoot\",\"moth\",\"Carolina\",\"aslant\",\"shutter\",\"Dublin\",\"incapable\",\"gray\",\"customs\",\"attractions\",\"candid\",\"images\",\"fitful\",\"tun\",\"popular\",\"fins\",\"transom\",\"affect\",\"perspective\",\"whims\",\"Aurora\",\"hiding\",\"Moloch\",\"dismall\",\"handsomely\",\"downs\",\"consulted\",\"maw\",\"Wentworth\",\"envelope\",\"Millions\",\"noonday\",\"lasting\",\"Earl\",\"Kings\",\"forbid\",\"malady\",\"wigwam\",\"fears\",\"overboard\",\"meane\",\"births\",\"fills\",\"obtained\",\"Western\",\"portly\",\"strangled\",\"cloudy\",\"Ear\",\"liberal\",\"Indeed\",\"Arm\",\"swimmer\",\"names\",\"Battersby\",\"vase\",\"grinding\",\"copied\",\"thrust\",\"identify\",\"looked\",\"intricate\",\"exhortation\",\"closing\",\"THAT\",\"explain\",\"guests\",\"share\",\"Eli\",\"cry\",\"poetry\",\"doubloons\",\"differently\",\"strangely\",\"machine\",\"27\",\"boisterous\",\"malicious\",\"putteth\",\"omit\",\"HOW\",\"under\",\"spare\",\"Shittim\",\"modesty\",\"start\",\"discover\",\"Engedi\",\"Gilgal\",\"markets\",\"goodnight\",\"mothers\",\"previously\",\"acquiescence\",\"chusing\",\"adhesiveness\",\"cheery\",\"spark\",\"vale\",\"outlived\",\"buildest\",\"Talk\",\"revolved\",\"deaths\",\"directing\",\"wine\",\"vex\",\"arrangement\",\"laughed\",\"contingencies\",\"twig\",\"blemish\",\"Adversary\",\"prop\",\"wharf\",\"emotional\",\"trout\",\"Jahaz\",\"happens\",\"Ten\",\"glossy\",\"imagines\",\"Ahio\",\"18\",\"magic\",\"cave\",\"rains\",\"obscure\",\"button\",\"echoing\",\"attitudes\",\"confined\",\"Purim\",\"Vnder\",\"wondrous\",\"peered\",\"overjoyed\",\"suburbs\",\"buds\",\"exert\",\"Iddo\",\"hadst\",\"rudeness\",\"BUT\",\"former\",\"independent\",\"Once\",\"bullock\",\"fiery\",\"Aholibamah\",\"Ryan\",\"afternoon\",\"frolic\",\"ruddy\",\"apprehended\",\"joining\",\"sojourneth\",\"Laura\",\"distinguishing\",\"Ira\",\"Forms\",\"embodiment\",\"Trust\",\"untie\",\"vast\",\"description\",\"woke\",\"cheated\",\"Edom\",\"verbal\",\"turneth\",\"gipsies\",\"affectedly\",\"canvas\",\"Bigvai\",\"hooks\",\"saints\",\"scent\",\"incompatible\",\"statute\",\"talking\",\"explanations\",\"Trueman\",\"truck\",\"fare\",\"pots\",\"Castle\",\"Hodges\",\"borrowed\",\"fairer\",\"Margaret\",\"furnish\",\"unintelligible\",\"appalling\",\"buried\",\"earnestness\",\"dally\",\"Antonio\",\"Issachar\",\"capture\",\"overturn\",\"Maidens\",\"surprised\",\"resemble\",\"Arkansas\",\"crouching\",\"Bread\",\"obliging\",\"subsided\",\"oaken\",\"threatened\",\"orchestra\",\"union\",\"dark\",\"floated\",\"hinds\",\"penitence\",\"cleared\",\"Footman\",\"lump\",\"borderland\",\"within\",\"Rabbit\",\"Pamphylia\",\"liking\",\"injustice\",\"songs\",\"threshingfloor\",\"generous\",\"Omnipotence\",\"blesse\",\"nearest\",\"Queequeg\",\"it\",\"abolish\",\"loads\",\"flye\",\"Morton\",\"porch\",\"Edomites\",\"flask\",\"crying\",\"Sole\",\"impartial\",\"Fit\",\"Ezer\",\"Vicarage\",\"ill\",\"almond\",\"replied\",\"womb\",\"dispute\",\"refinement\",\"headlong\",\"across\",\"Joses\",\"sharply\",\"De\",\"magnetic\",\"pen\",\"teaching\",\"puzzle\",\"Shaphan\",\"thin\",\"city\",\"cause\",\"moderately\",\"Creator\",\"W\",\"averted\",\"tackle\",\"purity\",\"heels\",\"funny\",\"tiptoe\",\"twos\",\"Joseph\",\"impatience\",\"rushed\",\"burial\",\"jet\",\"intolerably\",\"Evan\",\"deacons\",\"peculiarity\",\"pace\",\"excites\",\"messages\",\"threescore\",\"cherished\",\"loud\",\"Norwey\",\"Ephesus\",\"Zarhites\",\"Madnesse\",\"bearing\",\"Angel\",\"withal\",\"Cherubick\",\"burnt\",\"submitted\",\"retired\",\"vexed\",\"bellowing\",\"Coles\",\"composing\",\"Five\",\"_that_\",\"moody\",\"Tyranny\",\"dignity\",\"meats\",\"amiss\",\"Rise\",\"nail\",\"uppermost\",\"wheeled\",\"lash\",\"parley\",\"dropt\",\"Horonaim\",\"Babes\",\"thrilling\",\"tropical\",\"were\",\"PROJECT\",\"ecstasy\",\"plumes\",\"retained\",\"lumps\",\"prevent\",\"watching\",\"subtly\",\"appeal\",\"girded\",\"wisdom\",\"brain\",\"veteran\",\"doers\",\"envy\",\"smiled\",\"couch\",\"exterior\",\"eel\",\"commanding\",\"endeavors\",\"Broadway\",\"least\",\"whiles\",\"imitated\",\"Ishbosheth\",\"gravity\",\"luck\",\"Thinks\",\"gifts\",\"shovels\",\"fat\",\"wonderful\",\"operation\",\"Sion\",\"dried\",\"above\",\"Thanks\",\"displays\",\"canst\",\"breeches\",\"restitution\",\"bud\",\"placid\",\"baptize\",\"hen\",\"opera\",\"totally\",\"secrecy\",\"crisis\",\"throat\",\"Felix\",\"conference\",\"slate\",\"suspension\",\"Lucifer\",\"windward\",\"dinners\",\"choicest\",\"lashing\",\"chew\",\"Reubenites\",\"Hivites\",\"cordage\",\"altogether\",\"groom\",\"tear\",\"nine\",\"crystal\",\"wanted\",\"beautiful\",\"Ahaz\",\"Find\",\"unrecorded\",\"capital\",\"wretched\",\"tight\",\"Turk\",\"calmness\",\"Brown\",\"Tappuah\",\"destroy\",\"cubits\",\"does\",\"Bert\",\"thoughtfulness\",\"mental\",\"Tishbite\",\"chests\",\"desireth\",\"exquisite\",\"Few\",\"commandeth\",\"expensive\",\"wanting\",\"below\",\"mourneth\",\"fitting\",\"reuenge\",\"histories\",\"fever\",\"persecution\",\"chasing\",\"twigs\",\"chains\",\"gas\",\"pupil\",\"traded\",\"described\",\"jealousy\",\"hit\",\"coachman\",\"halted\",\"shady\",\"crossing\",\"crater\",\"wildest\",\"sides\",\"Giving\",\"oppressors\",\"eighth\",\"attribute\",\"pause\",\"tongue\",\"laborers\",\"Potomac\",\"Woodpecker\",\"indispensable\",\"Carmi\",\"Following\",\"Philippi\",\"drugged\",\"fortunately\",\"feed\",\"Deere\",\"burden\",\"lengthened\",\"intoxicated\",\"cracking\",\"spade\",\"laboring\",\"aspect\",\"united\",\"Put\",\"treachery\",\"Geshurites\",\"bewildering\",\"fretted\",\"busily\",\"suspiciously\",\"proudest\",\"planks\",\"grazing\",\"outer\",\"revelations\",\"there\",\"ear\",\"`\",\"principle\",\"bitten\",\"Ophelia\",\"preserved\",\"orbs\",\"afar\",\"languishing\",\"elderly\",\"warnings\",\"Exeunt\",\"justice\",\"snake\",\"naturally\",\"mess\",\"attending\",\"snows\",\"hesitation\",\"mat\",\"improper\",\"bored\",\"strawberry\",\"doors\",\"doore\",\"fibre\",\"voyage\",\"favourable\",\"ceiling\",\"action\",\"vanished\",\"repentance\",\"nativity\",\"worthless\",\"consolation\",\"hail\",\"bones\",\"seriousness\",\"slimy\",\"72\",\"eight\",\"Jupiter\",\"refer\",\"inward\",\"prosper\",\"prizes\",\"statements\",\"dates\",\"Carteret\",\"Elton\",\"momentary\",\"coil\",\"footpath\",\"hearty\",\"aimed\",\"Rage\",\"unmarried\",\"Lyme\",\"gravely\",\"sexes\",\"....\",\"Heaven\",\"Agrippa\",\"Sire\",\"evildoers\",\"departs\",\"ghastly\",\"Starres\",\"Assemble\",\"yelling\",\"troops\",\"flour\",\"imperfection\",\"access\",\"76\",\"heard\",\"individuals\",\"Eliezer\",\"pod\",\"nothing\",\"loues\",\"raging\",\"Jehoshaphat\",\"thinker\",\"epistle\",\"party\",\"Dor\",\"Whale\",\"disgust\",\"gains\",\"Watch\",\"flower\",\"sojourner\",\"convenient\",\"limbs\",\"finishing\",\"adorned\",\"gang\",\"stop\",\"silently\",\"affections\",\"gets\",\"baths\",\"Ramadan\",\"Heard\",\"Jove\",\"hilt\",\"observer\",\"lice\",\"rue\",\"moss\",\"unthought\",\"moving\",\"tabrets\",\"multitude\",\"shook\",\"compelled\",\"wet\",\"Journeyers\",\"marshal\",\"Poor\",\"Amid\",\"resplendent\",\"visions\",\"cavalry\",\"deficient\",\"mute\",\"hindered\",\"brand\",\"altar\",\"swallowing\",\"peeping\",\"rocky\",\"deal\",\"chastened\",\"rupture\",\"enveloping\",\"insomuch\",\"directed\",\"Don\",\"crews\",\"echo\",\"Emma\",\"sang\",\"graves\",\"fir\",\"rough\",\"lamentable\",\"healed\",\"boxes\",\"lye\",\"Smallridge\",\"Magna\",\"sandwiches\",\"complete\",\"seal\",\"obedience\",\"revenged\",\"oblique\",\"owes\",\"barred\",\"mellow\",\"Wilson\",\"bason\",\"recorder\",\"forcible\",\"sagacious\",\"Delaford\",\"visible\",\"Toward\",\"endless\",\"Opening\",\"whirlwinds\",\"poise\",\"Torches\",\"perhaps\",\"Andes\",\"counsellor\",\"acknowledged\",\"pleasantly\",\"steer\",\"sprouts\",\"staves\",\"blackmailed\",\"newes\",\"celebrate\",\"duellists\",\"collector\",\"drawled\",\"beside\",\"but\",\"Angus\",\"terraces\",\"slow\",\"furrows\",\"crushed\",\"onward\",\"Canaanite\",\"astern\",\"letter\",\"innocent\",\"rubies\",\"disorder\",\"upstairs\",\"ruined\",\"Point\",\"invent\",\"institution\",\"approve\",\"mast\",\"Earth\",\"robbed\",\"inherent\",\"parcels\",\"shoemaker\",\"surnamed\",\"stammered\",\"confusion\",\"bended\",\"uniformly\",\"always\",\"steel\",\"wrist\",\"blackberry\",\"hawthorn\",\"perseverance\",\"Saffron\",\"sloped\",\"expedient\",\"childhood\",\"prating\",\"flock\",\"confirm\",\"residence\",\"runs\",\"timbrels\",\"communicated\",\"riddle\",\"Cold\",\"6\",\"Gay\",\"magnificence\",\"spoken\",\"neglecting\",\"oblation\",\"devoted\",\"breaketh\",\"blackberries\",\"corridors\",\"mystic\",\"scale\",\"penetrate\",\"Hamilton\",\"anarchism\",\"thick\",\"Through\",\"breasts\",\"lee\",\"Shall\",\"harmonious\",\"repented\",\"civility\",\"Show\",\"planteth\",\"gasped\",\"deserved\",\"draught\",\"they\",\"molten\",\"curate\",\"fearfully\",\"puppy\",\"marvels\",\"sidelong\",\"modified\",\"wrecks\",\"pierce\",\"openings\",\"sturdily\",\"shafts\",\"wherefore\",\"converse\",\"reliance\",\"Urijah\",\"entreaties\",\"Greybeards\",\"perisheth\",\"persecutions\",\"Baker\",\"alehouse\",\"companionship\",\"passengers\",\"budge\",\"vines\",\"hearest\",\"portrait\",\"beguile\",\"Naioth\",\"flannel\",\"Early\",\"74\",\"Cassius\",\"services\",\"viewing\",\"smaller\",\"naturalists\",\"anxious\",\"fugitive\",\"taste\",\"Erie\",\"built\",\"discontent\",\"requiring\",\"Southern\",\"Radney\",\"respecting\",\"Marlborough\",\"Brought\",\"shaven\",\"hymn\",\"origin\",\"Chip\",\"buttons\",\"partake\",\"shineth\",\"assisted\",\"Henrietta\",\"Several\",\"appear\",\"hew\",\"Derick\",\"conjectured\",\"exclaimed\",\"enlarged\",\"113\",\"considered\",\"Thunder\",\"opinion\",\"dwarfish\",\"summons\",\"forasmuch\",\"thrones\",\"foreskins\",\"manifest\",\"workman\",\"brawn\",\"weather\",\"aching\",\"Clitus\",\"perishing\",\"transgression\",\"obstinate\",\"girdles\",\"eloquent\",\"obvious\",\"Both\",\"jacket\",\"sailing\",\"rotten\",\"onset\",\"Nothing\",\"bandstand\",\"pavement\",\"asylum\",\"detained\",\"softened\",\"blazing\",\"inspired\",\"undoubted\",\"infallibly\",\"hardy\",\"soap\",\"Maple\",\"expressed\",\"ash\",\"capricious\",\"devoid\",\"Archite\",\"Whatsoever\",\"shouts\",\"exhorting\",\"mill\",\"openeth\",\"bitterest\",\"Rollaround\",\"apes\",\"voyce\",\"poultry\",\"irrational\",\"shower\",\"grandfather\",\"midwives\",\"system\",\"swell\",\"breaches\",\"soft\",\"clam\",\"expose\",\"enthusiasts\",\"inmost\",\"Labour\",\"hedges\",\"discipline\",\"placed\",\"Mareshah\",\"impassive\",\"misfortunes\",\"Supper\",\"rapidly\",\"Nobody\",\"worshippeth\",\"intreated\",\"sown\",\"abject\",\"permission\",\"narrow\",\"grateful\",\"premature\",\"scorpions\",\"additional\",\"transition\",\"failed\",\"raptures\",\"Us\",\"whithersoever\",\"tenderness\",\"instantaneously\",\"Scotchman\",\"to\",\"ease\",\"faster\",\"rays\",\"Baanah\",\"Massachusetts\",\"seduced\",\"Stubb\",\"Volumnius\",\"confronted\",\"Hittite\",\"returns\",\"trieth\",\"undesirable\",\"stalk\",\"visitation\",\"muscles\",\"testifieth\",\"winds\",\"Villars\",\"gallons\",\"mercies\",\"treacle\",\"Wife\",\"ordinance\",\"beset\",\"due\",\"pleases\",\"clutch\",\"anyrate\",\"Pole\",\"Gomorrha\",\"loath\",\"ears\",\"Elector\",\"watchmen\",\"whistled\",\"insufficient\",\"graffed\",\"afore\",\"leviathan\",\"Close\",\"torrents\",\"fixed\",\"faithful\",\"crept\",\"approved\",\"coax\",\"perpendicular\",\"Angels\",\"exclaim\",\"dominion\",\"vessel\",\"unsearchable\",\"fade\",\"Virtues\",\"Superiour\",\"Looks\",\"produce\",\"appearances\",\"divide\",\"Archers\",\"unwonted\",\"aspects\",\"arrival\",\"snatch\",\"Elon\",\"pigs\",\"vnderstand\",\"twelve\",\"speaking\",\"afloat\",\"tires\",\"candidates\",\"trumpeters\",\"oblige\",\"proves\",\"Hartfield\",\"treasure\",\"Dough\",\"prejudiced\",\"jasper\",\"dining\",\"tulip\",\"link\",\"Banquo\",\"hasten\",\"sheaf\",\"hunters\",\"Idea\",\"earring\",\"whereon\",\"Shimei\",\"hole\",\"leaven\",\"unused\",\"Titinius\",\"emptiness\",\"Wealth\",\"KNOW\",\"hardness\",\"combat\",\"Camillo\",\"comforter\",\"indignantly\",\"FROM\",\"omnipotent\",\"Ophrah\",\"benevolent\",\"powers\",\"create\",\"slothful\",\"resided\",\"Title\",\"courteous\",\"sorts\",\"Dagon\",\"own\",\"y\",\"promptitude\",\"supple\",\"flax\",\"inherit\",\"downstairs\",\"mortar\",\"puns\",\"Easy\",\"Walt\",\"papa\",\"poor\",\"ignorance\",\"currents\",\"syllables\",\"intends\",\"aboue\",\"resulting\",\"fringes\",\"grass\",\"selfish\",\"met\",\"sword\",\"forepart\",\"slowly\",\"dexterity\",\"shudder\",\"materials\",\"key\",\"numbers\",\"censure\",\"swaying\",\"propensity\",\"eels\",\"presented\",\"beautifully\",\"deceitfulness\",\"leaving\",\"stacks\",\"aboard\",\"surpassing\",\"murder\",\"YOUR\",\"spat\",\"Hee\",\"Achbor\",\"finds\",\"endlessly\",\"Father\",\"criest\",\"pressing\",\"Asshur\",\"teachest\",\"spoon\",\"tomb\",\"Fetch\",\"lease\",\"magnanimous\",\"folded\",\"or\",\"prophetess\",\"saveth\",\"bounteous\",\"cordially\",\"Actus\",\"slayeth\",\"Eliphelet\",\"spoilers\",\"44\",\"flank\",\"sapphire\",\"Gadites\",\"manifestation\",\"crude\",\"line\",\"flutes\",\"chaise\",\"cooking\",\"Sweare\",\"defeat\",\"Gehazi\",\"transfigured\",\"traps\",\"net\",\"weariness\",\"sparrows\",\"reign\",\"&\",\"vault\",\"Crete\",\"rous\",\"missed\",\"wharves\",\"thorough\",\"plumage\",\"BACK\",\"cherry\",\"115\",\"past\",\"66\",\"planets\",\"sanctity\",\"facades\",\"Deliver\",\"pointed\",\"remembered\",\"Macduffe\",\"Obed\",\"scattered\",\"buryingplace\",\"deliverance\",\"landscape\",\"repose\",\"Pigeon\",\"soup\",\"devoured\",\"equivalent\",\"chairman\",\"holiness\",\"Shalt\",\"outs\",\"successfully\",\"Capitoll\",\"leak\",\"Fellowes\",\"pleasantness\",\"unceasing\",\"Beware\",\"Whitman\",\"reeling\",\"hatchway\",\"colouring\",\"thirteen\",\"laughing\",\"penetrating\",\"multitudes\",\"detestable\",\"penalty\",\"cheerful\",\"er\",\"Foundation\",\"powerless\",\"passion\",\"like\",\"kissing\",\"pageants\",\"hoisted\",\"Priscilla\",\"humanity\",\"aliue\",\"meanwhile\",\"Enscombe\",\"drought\",\"bunch\",\"bondage\",\"condescend\",\"cluster\",\"signet\",\"shearing\",\"redness\",\"reckless\",\"understands\",\"crack\",\"delighted\",\"Dagger\",\"graceful\",\"promptly\",\"momentarily\",\"boiling\",\"painted\",\"sleepe\",\"clustering\",\"Kenite\",\"Saturn\",\"embarrassed\",\"Giue\",\"horizon\",\"muzzles\",\"uttering\",\"infatuation\",\"inhuman\",\"Power\",\"Adullam\",\"hangings\",\"vice\",\"winning\",\"gloomily\",\"calls\",\"Adam\",\"intoxication\",\"Fly\",\"hopeless\",\"winters\",\"violent\",\"hurled\",\"Often\",\"grassy\",\"clinging\",\"Except\",\"Czar\",\"hearing\",\"Season\",\"bridle\",\"recollection\",\"risk\",\"labour\",\"scalding\",\"promoting\",\"master\",\"homes\",\"harbors\",\"fiercer\",\"Listen\",\"injured\",\"worked\",\"Such\",\"Fashion\",\"Devil\",\"bully\",\"knowing\",\"excels\",\"covers\",\"recommended\",\"normal\",\"lightly\",\"France\",\"cellar\",\"ending\",\"settled\",\"Money\",\"crocodile\",\"infirmity\",\"aged\",\"paw\",\"anon\",\"regretted\",\"organ\",\"proclaimed\",\"royal\",\"Napoleon\",\"eagerness\",\"prairies\",\"repaid\",\"commendation\",\"reflectively\",\"Shew\",\"contrivances\",\"spasm\",\"rubbing\",\"detached\",\"make\",\"pleasures\",\"directly\",\"Arabia\",\"wag\",\"dictate\",\"Brobdingnag\",\"calm\",\"Touch\",\"combatants\",\"desire\",\"Hezekiah\",\"prophesieth\",\"firework\",\"rapture\",\"mandarin\",\"strive\",\"hair\",\"barbarian\",\"gap\",\"armour\",\"Tun\",\"}\",\"naming\",\"company\",\"Virtue\",\"dogs\",\"copyright\",\"communicative\",\"tranquillity\",\"classic\",\"promised\",\"annual\",\"thunder\",\"light\",\"Left\",\"everyone\",\"Blast\",\"rattled\",\"approaching\",\"drums\",\"fox\",\"savages\",\"thereof\",\"connection\",\"mischief\",\"drifts\",\"Spanish\",\"damnable\",\"Bond\",\"Major\",\"Israelitish\",\"police\",\"adversary\",\"firstlings\",\"sinews\",\"whirled\",\"elm\",\"dunghill\",\"fatlings\",\"correspondence\",\"cocoa\",\"affluence\",\"entitled\",\"fraud\",\"rogue\",\"Temanite\",\"Bending\",\"promotion\",\"gesture\",\"ceaseless\",\"balls\",\"revolted\",\"application\",\"levy\",\"why\",\"whirlpool\",\"couched\",\"stuck\",\"Jacob\",\"symptom\",\"trot\",\"creature\",\"worsted\",\"Pelatiah\",\"summers\",\"unaccountably\",\"Sad\",\"trillions\",\"Haggai\",\"Mamma\",\".)\",\"Talb\",\"advocate\",\"Sumatra\",\"though\",\"unbar\",\"slander\",\"medium\",\"inhale\",\"rather\",\"dearth\",\"enjoyments\",\"new\",\"innocency\",\"unkind\",\"sell\",\"famous\",\"rampart\",\"maidservants\",\"journalist\",\"Taurus\",\"reminiscence\",\"}[\",\"awaked\",\"dipping\",\"sinner\",\"Gaius\",\"Jericho\",\"settle\",\"by\",\"constellations\",\"doorway\",\"Walter\",\"Lords\",\"yelled\",\"ungovernable\",\"cooper\",\"concubines\",\"latch\",\"Zedekiah\",\"come\",\"luckily\",\"Seruants\",\"52\",\"Wisedome\",\"-\",\"cuts\",\"Ratcliffe\",\"pound\",\"tenant\",\"Port\",\"mists\",\"earthquakes\",\"gaping\",\"strangest\",\"mask\",\"holiday\",\"gown\",\"notes\",\"persecutor\",\"foundation\",\"reproachfully\",\"incessantly\",\":\",\"whirr\",\"kinder\",\"stiffnecked\",\"augment\",\"dissipated\",\"Directly\",\"complaints\",\"Hepher\",\"Seraphim\",\"yonder\",\"noises\",\"rallied\",\"straitness\",\"avenged\",\"boatmen\",\"capitals\",\"nervous\",\"mud\",\"fore\",\"bony\",\"eater\",\"interminable\",\"37\",\"attempted\",\"remonstrance\",\"grievous\",\"Sword\",\"Farewell\",\"commonplace\",\"afflict\",\"lamb\",\"overpowered\",\"awake\",\"Having\",\"Get\",\"tried\",\"physiology\",\"Call\",\"pronouncing\",\"patched\",\"rul\",\"Manet\",\"AM\",\"kid\",\"historical\",\"drive\",\"sage\",\"endureth\",\"idleness\",\"Naaman\",\"apostles\",\"vintage\",\"revolutionary\",\"fullest\",\"discerning\",\"damp\",\"whispered\",\"entice\",\"didst\",\"maddening\",\"brick\",\"Your\",\"Shobal\",\"Hatter\",\"tumultuous\",\"bidden\",\"Bashemath\",\"We\",\"foolishness\",\"merry\",\"grip\",\"accomplishment\",\"wrecked\",\"satin\",\"secure\",\"Fiend\",\"cheered\",\"extremity\",\"shrine\",\"entreated\",\"fairy\",\"abuse\",\"front\",\"likeliest\",\"speculation\",\"sprinkled\",\"wrinkled\",\"freshly\",\"averse\",\"aspire\",\"tax\",\"behinde\",\"eagles\",\"Elimelech\",\"Bates\",\"Flowers\",\"cotton\",\"dents\",\"ledges\",\"Hosanna\",\"landing\",\"library\",\"chanced\",\"offerings\",\"aware\",\"revolve\",\"stirreth\",\"differing\",\"splendidly\",\"bringing\",\"name\",\"Gibraltar\",\"noses\",\"opaque\",\"farmhouse\",\"cliffs\",\"sharp\",\"additions\",\"age\",\"ultimate\",\"sauce\",\"wicked\",\"clock\",\"Rock\",\"lot\",\"keeping\",\"aim\",\"walketh\",\"hundredth\",\"MAN\",\"palaces\",\"countenances\",\"Concerning\",\"lock\",\"DO\",\"utter\",\"villains\",\"upward\",\"fighting\",\"office\",\"Zibeon\",\"Brutus\",\"blooded\",\"trance\",\"giant\",\"ministry\",\"fasten\",\"cross\",\"sailed\",\"obscurity\",\"tobacco\",\"animate\",\"direst\",\"foolishly\",\"Broad\",\"warned\",\"Straight\",\"swallow\",\"uphold\",\"representations\",\"study\",\"shaggy\",\"scratching\",\"marvelled\",\"anatomy\",\"sulky\",\"Twenty\",\"Darkness\",\"incredulity\",\"Philistine\",\"unmanageable\",\"Morn\",\"lettuce\",\"indisposition\",\"Cyprus\",\"search\",\"base\",\"Lye\",\"careful\",\"wrinkles\",\"been\",\"timely\",\"Jehoram\",\"hips\",\"Tall\",\"expect\",\"Vesuvius\",\"Shuhite\",\"Iscariot\",\"dearest\",\"decree\",\"pretensions\",\"Camden\",\"Chaldees\",\"cheweth\",\"intercept\",\"predestinated\",\"another\",\"repay\",\"Squirrel\",\"pervert\",\"guardians\",\"_me_\",\"Break\",\"professor\",\"calmer\",\"Wisdom\",\"suggesting\",\"irresolute\",\"millstone\",\"attempt\",\"boots\",\"battle\",\"tents\",\"Tortoise\",\"terror\",\"ingenuity\",\"inflicted\",\"bosoms\",\"diverted\",\"Is\",\"archway\",\"knock\",\"poised\",\"ominous\",\"extracted\",\"_he_\",\"communications\",\"rend\",\"fourteen\",\"ran\",\"Bethshean\",\"reminded\",\"piteous\",\"masters\",\"wax\",\"timbers\",\"nuptial\",\"income\",\"heartily\",\"Otway\",\"regrets\",\"bases\",\"macaroons\",\"jocund\",\"heifer\",\"smash\",\"almighty\",\"Country\",\"father\",\"Graues\",\"did\",\"inasmuch\",\"roes\",\"bowls\",\"universal\",\"civilizations\",\"liveliness\",\"deserted\",\"expectation\",\"Hananiah\",\"rarely\",\"sympathize\",\"prolonged\",\"Testament\",\"conjuring\",\"rhymes\",\"Cass\",\"morbidity\",\"Mr\",\"An\",\"despairing\",\"During\",\"Magog\",\"seemingly\",\"furlongs\",\"legends\",\"majority\",\"climes\",\"foresight\",\"civilities\",\"Cornish\",\"possibly\",\"stairs\",\"marching\",\"cruel\",\"uses\",\"againe\",\"fit\",\"Little\",\"cutlass\",\"subtlest\",\"emerald\",\"permit\",\"blessings\",\"80\",\"minutely\",\"Vengeance\",\"mounted\",\"Dutch\",\"span\",\"damsels\",\"superstitious\",\"precedents\",\"SHE\",\"Methinks\",\"Morning\",\"merciful\",\"fac\",\"Pharisee\",\"eares\",\"Jair\",\"smite\",\"tranquil\",\"limit\",\"unhappiness\",\"wary\",\"whispers\",\"?\\\"\",\"selfe\",\"bad\",\"Elah\",\"sings\",\"selues\",\"formed\",\"affliction\",\"fortunate\",\"carve\",\"crashing\",\"radiance\",\"widows\",\"rear\",\"marks\",\"plead\",\"receive\",\"Dormouse\",\"profoundest\",\"interpretation\",\"They\",\"Venetian\",\"Gera\",\"Illustration\",\"Set\",\"plainly\",\"divulged\",\"footprint\",\"sandy\",\"refusal\",\"presiding\",\"steering\",\"omen\",\"rooted\",\"recesses\",\"remarkably\",\"precious\",\"reprobate\",\"trespasses\",\"Perfume\",\"understand\",\"hesitate\",\"mounts\",\"beginnings\",\"internal\",\"reproved\",\"restraint\",\"avaricious\",\"groups\",\"speake\",\"while\",\"drinking\",\"worthiest\",\"swinging\",\"inside\",\"arriving\",\"surrounded\",\"manly\",\"elevated\",\"fondness\",\"savagely\",\"horrid\",\"insufferable\",\"attitude\",\"Making\",\"thoughtfully\",\"strikingly\",\"follows\",\"teats\",\"Longstaple\",\"baser\",\"plaited\",\"hereafter\",\"Family\",\"Venice\",\"gentlemen\",\"hungry\",\"knocking\",\"drenched\",\"sycomore\",\"weigh\",\"mingled\",\"Pretty\",\"tireless\",\"string\",\"unlike\",\"explains\",\"hollow\",\"divers\",\"inches\",\"flee\",\"Frank\",\"foaming\",\"Fled\",\"whim\",\"conveyed\",\"ay\",\"poyson\",\"sweare\",\"attentions\",\"Banq\",\"pretending\",\"Aloud\",\"boasting\",\"bang\",\"Greet\",\"elephant\",\"art\",\"enmity\",\"Six\",\"those\",\"ebb\",\"best\",\"gain\",\"://\",\"Azel\",\"whoredom\",\"guest\",\"\\\"'\",\"complain\",\"impure\",\"Pisgah\",\"contracted\",\"exploring\",\"conviction\",\"rigging\",\"Philistines\",\"doubtfully\",\"Order\",\"infants\",\"Beare\",\"wakened\",\"Chief\",\"110\",\"conquerors\",\"drinketh\",\"blithe\",\"champions\",\"catch\",\"Ariel\",\"Tongue\",\"impertinent\",\"blown\",\"fittest\",\"sweetly\",\"nature\",\"XVIII\",\"hath\",\"grating\",\"regiments\",\"dreamers\",\"Usher\",\"sized\",\"Lift\",\"kneel\",\"Baalhanan\",\"ancients\",\"European\",\"VOYAGE\",\"velvet\",\"waif\",\"draped\",\"lowering\",\"Bed\",\"Comes\",\"foremost\",\"time\",\"Arabians\",\"hin\",\"Joab\",\"Hebronites\",\"Fairy\",\"exchanged\",\"big\",\"Pol\",\"signals\",\"waited\",\"accuracy\",\"hunting\",\"Calp\",\"persuading\",\"pictures\",\"jealousies\",\"mamma\",\"Hereby\",\"mottled\",\"Sure\",\"crop\",\"Manilla\",\"shocked\",\"limits\",\"cant\",\"chest\",\"try\",\"eighty\",\"cart\",\"Cadiz\",\"getteth\",\"Doesn\",\"softening\",\"Snow\",\"ungrateful\",\"rice\",\"carcases\",\"fondly\",\"faithfulness\",\"guise\",\"ex\",\"knops\",\"slay\",\"beares\",\"melt\",\"revolt\",\"blade\",\"Shirley\",\"recoil\",\"this\",\"Gingerbread\",\"dismiss\",\"selling\",\"Huron\",\"Nethaniah\",\"YOU\",\"indifference\",\"darts\",\"figure\",\"lacke\",\"regardless\",\"stooping\",\"square\",\"skeleton\",\"judiciously\",\"deceiver\",\"Har\",\"loue\",\"area\",\"strongly\",\"Israelites\",\"Naomi\",\"breach\",\"precept\",\"Falling\",\"aft\",\"flaw\",\"sleet\",\"protect\",\"producing\",\"attach\",\"difficult\",\"sprout\",\"irritating\",\"_we_\",\"Peor\",\"heare\",\"worshippers\",\"thenceforth\",\"amazed\",\"enlivened\",\"symptoms\",\"timed\",\"Souldiers\",\"Cole\",\"planning\",\"defects\",\"abandon\",\"mixed\",\"excellency\",\"size\",\"conquer\",\"pretence\",\"compliment\",\"Francisco\",\"discourse\",\"ransom\",\"SIR\",\"murky\",\"empty\",\"Hallo\",\"indeede\",\"Greece\",\"dey\",\"firm\",\"bleeding\",\"husks\",\"frequent\",\"deadly\",\"Twere\",\"High\",\"transported\",\"repair\",\"falleth\",\"go\",\"Diana\",\"aprons\",\"exertions\",\"sounded\",\"stifling\",\"ushered\",\"stay\",\"difference\",\"Jolly\",\"crested\",\"heavier\",\"religions\",\"hears\",\"finery\",\"tunnel\",\"Abigail\",\"primal\",\"contrite\",\"nimbus\",\"buildings\",\"ceremonies\",\"rivulet\",\"prodigious\",\"Mishael\",\"Meremoth\",\"burn\",\"placing\",\"Barlow\",\"float\",\"recall\",\"blunders\",\"fry\",\"respective\",\"hypocritical\",\"word\",\"up\",\"hates\",\"drama\",\"gentle\",\"49\",\"Samuel\",\"Louisiana\",\"reed\",\"manager\",\"sovran\",\"Cherub\",\"shew\",\"echoes\",\"elves\",\"contact\",\"intermediate\",\"nut\",\"pealing\",\"knots\",\"branching\",\"Heir\",\"twixt\",\"Harvilles\",\"passionate\",\"accomplishments\",\"takes\",\"perfumes\",\"brute\",\"vapor\",\"vibrating\",\"hoarse\",\"sixteenth\",\"scattereth\",\"trees\",\"thorns\",\"smelt\",\"Exactly\",\"Countries\",\"keepes\",\"abominable\",\"allowances\",\"oblivion\",\"higher\",\"impressive\",\"lowered\",\"Westons\",\"fresher\",\"timber\",\"Artaxerxes\",\"eats\",\"Maurice\",\"fist\",\"Dewdrop\",\"hearted\",\"sacrificeth\",\"shewes\",\"Richmond\",\"Add\",\"yellow\",\"glories\",\"Aroer\",\"stand\",\"reveries\",\"abroad\",\"sweareth\",\"theory\",\"frequented\",\"perverseness\",\"guilty\",\"throats\",\"watch\",\"truths\",\"affirmed\",\"drave\",\"dazzle\",\"prize\",\"framed\",\"yawned\",\"furthermore\",\"surged\",\"scraps\",\"Malchijah\",\"haughtiness\",\"horse\",\"grudge\",\"effectually\",\"Guernsey\",\"DOES\",\"mistake\",\"compass\",\"cowards\",\"hearkened\",\"Dane\",\"chowder\",\"Soup\",\"amiably\",\"Fin\",\"confession\",\"Seventh\",\"Knowledge\",\"referring\",\"Ride\",\"secret\",\"chained\",\"Yea\",\"meditated\",\"Arms\",\"Debir\",\"worketh\",\"acre\",\"anything\",\"destruction\",\"conspirator\",\"Vishnoo\",\"Suliman\",\"skin\",\"impose\",\"forgiveness\",\"charm\",\"calculation\",\"Sarah\",\"linger\",\"navel\",\"coast\",\"Driven\",\"Just\",\"Furthermore\",\"selleth\",\"hush\",\"dis\",\"Marianne\",\"waits\",\"reasonably\",\"speeches\",\"42\",\"signifies\",\"Tattle\",\"colt\",\"sunny\",\"tribulations\",\"stablish\",\"dissolution\",\"middle\",\"bag\",\"lunged\",\"Ruth\",\"Antioch\",\"rows\",\"churchyard\",\"winged\",\"proceeds\",\"clipper\",\"Hearing\",\"condemning\",\"appeareth\",\"force\",\"the\",\"sometime\",\"population\",\"compassion\",\"Cursed\",\"teach\",\"occurred\",\"lovest\",\"bold\",\"uncover\",\"regardeth\",\"practicable\",\"forbearing\",\"introduce\",\"supplying\",\"tolerable\",\"thunders\",\"orb\",\"convict\",\"athletes\",\"hoping\",\"sodaine\",\"bedstead\",\"recital\",\"stony\",\"Senators\",\"proceeding\",\"darke\",\"accompanying\",\"thickly\",\"instruct\",\"Friday\",\"teaches\",\"packed\",\"Bobby\",\"neared\",\"robbery\",\"Less\",\"delays\",\"maze\",\"poems\",\"!\\\"\",\"healthy\",\"Burs\",\"obstacle\",\"dealing\",\"seaweed\",\"relieved\",\"Hoshea\",\"beams\",\"beaver\",\"Raphael\",\"sweat\",\"supplanted\",\"glorying\",\"Zaccur\",\"thumbs\",\"Quohog\",\"howling\",\"adventures\",\"SONG\",\"amber\",\"position\",\"splinter\",\"crowding\",\"daughters\",\"mowers\",\"orderly\",\"remission\",\"musk\",\"really\",\"Gowne\",\"effuse\",\"wide\",\"frontiers\",\"lucre\",\"wid\",\"estimated\",\"Freedom\",\"91\",\"1st\",\"Man\",\"indifferently\",\"Abiezer\",\"parallelogram\",\"tan\",\"apron\",\"Flourish\",\"performances\",\"sons\",\"conceiving\",\"stockings\",\"Bible\",\"leathern\",\"fields\",\"AT\",\"gracious\",\"Balaam\",\"dawned\",\"Duke\",\"hav\",\"Boy\",\"giving\",\"Tabor\",\"ahead\",\"stings\",\"stationary\",\"lewd\",\"establishment\",\"parents\",\"Jonas\",\"rest\",\"Fran\",\"sulk\",\"Literary\",\"encounter\",\"miracles\",\"channel\",\"Camel\",\"deserves\",\"concluding\",\"belov\",\"anvil\",\"aisle\",\"rag\",\"types\",\"accommodation\",\"Firm\",\"hemlock\",\"wink\",\"bask\",\"betrayed\",\"Carstairs\",\"carols\",\"displeasure\",\"scotcher\",\"grounds\",\"thankfully\",\"J\",\"Bahurim\",\"permanently\",\"thoroughfare\",\"suddenness\",\"Herodias\",\"Mattaniah\",\"fearless\",\"aches\",\"dish\",\"Somersetshire\",\"crash\",\"steersman\",\"thought\",\"Deal\",\"logic\",\"developed\",\"cripple\",\"boys\",\"Chenaanah\",\"lie\",\"brasen\",\"Absalom\",\"Thieves\",\"nowadays\",\"glory\",\"Lazarus\",\"fully\",\"weaned\",\"Jozabad\",\"perturbations\",\"poles\",\"hypocrite\",\"gird\",\"lined\",\"Thee\",\"Delilah\",\"shaking\",\"reject\",\"dress\",\"Marke\",\"bolder\",\"intricacies\",\"stems\",\"Perfect\",\"Long\",\"keep\",\"measur\",\"jester\",\"Main\",\"afflicted\",\"awkwardness\",\"sporting\",\"concealed\",\"creeps\",\"forehead\",\"Michmash\",\"projected\",\"walls\",\"an\",\"Shaul\",\"Steelkilt\",\"makes\",\"fearfulness\",\"whomsoever\",\"tavern\",\"dropping\",\"record\",\"knees\",\"raising\",\"AND\",\"tickled\",\"sees\",\"rejoiceth\",\"necessity\",\"generosity\",\"impalpable\",\"writ\",\"sacrificing\",\"Bethlehem\",\"putrid\",\"determine\",\"needed\",\"sits\",\"rope\",\"rubbed\",\"declare\",\"struggled\",\"polls\",\"absorbed\",\"hurting\",\"Passage\",\"supremacy\",\"maritime\",\"securing\",\"scorning\",\"average\",\"professional\",\"gathered\",\"glare\",\"deeds\",\"folly\",\"unholy\",\"spilled\",\"disregard\",\"knewest\",\"streaming\",\"Being\",\"Portsmouth\",\"ventured\",\"vacantly\",\"intervening\",\"dwelleth\",\"Jehu\",\"Flauius\",\"night\",\"shrieking\",\"mourners\",\"contemptuously\",\"gentleness\",\"hateth\",\"Sally\",\"dy\",\"dense\",\"decease\",\"trousers\",\"breake\",\"Reserved\",\"hardened\",\"spouse\",\"bleached\",\"dilated\",\"chastisement\",\"Canaanites\",\"colourless\",\"Lima\",\"saide\",\"irony\",\"lifting\",\"Revolution\",\"printed\",\"intervals\",\"unjust\",\"covetous\",\"affairs\",\"Pilate\",\"wants\",\"Baasha\",\"consists\",\"jewel\",\"house\",\"feeling\",\"circle\",\"stove\",\"VERY\",\"comfort\",\"Short\",\"Starbuck\",\"machines\",\"Boaz\",\"neglected\",\"Shealtiel\",\"gallant\",\"constant\",\"noisy\",\"tooke\",\"hasty\",\"Walking\",\"adjure\",\"fortitude\",\"Zalmunna\",\"Wherever\",\"logs\",\"quickest\",\"Dathan\",\"instrument\",\"Paran\",\"forged\",\"encouraging\",\"Highest\",\"rods\",\"what\",\"cook\",\"moist\",\"amounted\",\"myths\",\"Moon\",\"desperation\",\"hat\",\"breeze\",\"teacheth\",\"islet\",\"bellow\",\"crimson\",\"rivals\",\"openly\",\"splintered\",\"remnant\",\"temperature\",\"atheists\",\"Shebaniah\",\"THIS\",\"chambers\",\"thanked\",\"tangled\",\"desk\",\"Aiah\",\"Goose\",\"Shiloh\",\"anoint\",\"stormy\",\"hushed\",\"restrain\",\"health\",\"Hopkins\",\"benignity\",\"stranger\",\"ouches\",\"sirs\",\"whit\",\"during\",\"sojourned\",\"wagons\",\"talkative\",\"tales\",\"steamer\",\"poured\",\"washing\",\"fallen\",\"principalities\",\"Thick\",\"loving\",\"pomegranate\",\"quiet\",\"Uzza\",\"Edrei\",\"ended\",\"smarter\",\"Hamlets\",\"addition\",\"alone\",\"know\",\"concerning\",\"dove\",\"pair\",\"Sin\",\"flukes\",\"uncommon\",\"chaste\",\"NO\",\"Messenger\",\"difficulty\",\"hasting\",\"got\",\"extraordinary\",\"nighest\",\"poet\",\"born\",\"illiterate\",\"'\\\"\",\"nobler\",\"surgeon\",\"brilliancy\",\"styled\",\"shelves\",\"Adaiah\",\"apparitions\",\"needle\",\"Give\",\"unsuspicious\",\"aspirations\",\"fragrance\",\"gaol\",\"truest\",\"hatch\",\"disguised\",\"Alabama\",\"Stretch\",\"tongues\",\"brows\",\"perceiue\",\"buyer\",\"outlined\",\"Jabesh\",\"seaman\",\"oil\",\"them\",\"Almighty\",\"Behold\",\"meals\",\"trample\",\"AS\",\"withheld\",\"Balak\",\"protection\",\"inspection\",\"Aijalon\",\"flinging\",\"senseless\",\"metal\",\"communing\",\"insisted\",\"north\",\"cloud\",\"spreading\",\"breed\",\"protesting\",\"official\",\"pit\",\"regulations\",\"crazy\",\"fragments\",\"convincing\",\"Charming\",\"Raamah\",\"salute\",\"clue\",\"waxed\",\"refreshed\",\"bathe\",\"purifying\",\"denoted\",\"sensual\",\"drugg\",\"Ethereal\",\"counsellors\",\"proposal\",\"Jozadak\",\"stooped\",\"'\",\"sentiment\",\"maxim\",\"psalms\",\"stripes\",\"obligation\",\"breaks\",\"messenger\",\",)\",\"wildly\",\"swept\",\"laugh\",\"probably\",\"steeple\",\"goings\",\"quick\",\"building\",\"beseech\",\"Sadducees\",\"Some\",\"fie\",\"I\",\"Victor\",\"hitherto\",\"parlors\",\"heauy\",\"123\",\"sentiments\",\"liable\",\"odious\",\"vow\",\"imaginations\",\"Years\",\"Kin\",\"Bebai\",\"(\",\"awkward\",\"fathoms\",\"district\",\"loss\",\"refresh\",\"amplest\",\"ensign\",\"inscrutable\",\"Wolf\",\"liberty\",\"toll\",\"excessive\",\"graciousness\",\"Ur\",\"merchant\",\"tower\",\"owest\",\"accommodations\",\"Carpenter\",\"Martins\",\"castle\",\"globes\",\"wicket\",\"drink\",\"ogre\",\"obliquely\",\"Clear\",\"indifferent\",\"flattering\",\"Rebellious\",\"Pekah\",\"uttermost\",\"Gilead\",\"eBooks\",\"THE\",\"Render\",\"gallon\",\"bread\",\"incarnate\",\"crest\",\"Buy\",\"Hodijah\",\"cheerfulness\",\"114\",\"deemed\",\"shores\",\"trespass\",\"shop\",\"suspicions\",\"ado\",\"Gedor\",\"Aholibah\",\"excite\",\"spirits\",\"ravens\",\"un\",\"paines\",\"dictionary\",\"Ahab\",\"edged\",\"enraged\",\"juniper\",\"ankle\",\"screwed\",\"Pendragons\",\"prone\",\"Isaac\",\"Old\",\"muskets\",\"dearly\",\"pigeon\",\"growths\",\"Wallis\",\"Turtle\",\"edge\",\"Witness\",\"dare\",\"unluckily\",\"slid\",\"cards\",\"Sweepstakes\",\"threat\",\"Nebuchadnezzar\",\"ain\",\"general\",\"notched\",\"Berechiah\",\"dreadful\",\"Them\",\"Somers\",\"august\",\"displayed\",\"hug\",\"Edomite\",\"judgement\",\"twelvemonth\",\"nigh\",\"relations\",\"dialogue\",\"going\",\"extent\",\"basons\",\"gourd\",\"saidst\",\"particularly\",\"Islands\",\"farre\",\"opponent\",\"amaze\",\"spring\",\"dispel\",\"weak\",\"stops\",\"floats\",\"temperate\",\"picture\",\"shake\",\"searched\",\"Market\",\"tract\",\"explanation\",\"TREE\",\"Troas\",\"inscription\",\"Anything\",\"liers\",\"happeneth\",\"June\",\"pet\",\"dumbe\",\"weake\",\"figured\",\";\",\"rebuked\",\"twill\",\"Malcolme\",\"richly\",\"Hora\",\"Stephen\",\"beaming\",\"discussed\",\"not\",\"Evil\",\"turf\",\"verse\",\"situation\",\"Circus\",\"sinister\",\"lived\",\"abashed\",\"rearing\",\"Enemie\",\"inferred\",\"hereditary\",\"rejoicing\",\"likes\",\"attendance\",\"Vermont\",\"um\",\"consecrated\",\"houses\",\"lodgings\",\"trying\",\"improbable\",\"64\",\"prose\",\"scraping\",\"magnified\",\"safely\",\"mail\",\"usefulness\",\"unreasonable\",\"95\",\"mountains\",\"join\",\"broken\",\"occur\",\"Big\",\"abstraction\",\"smart\",\"whitewashed\",\"brook\",\"Gihon\",\"Soon\",\"judgments\",\"invisible\",\"fortress\",\"embodied\",\"sperm\",\"unctuous\",\"handling\",\"Titin\",\"fatigued\",\"tug\",\"especially\",\"journey\",\"pleased\",\"dreary\",\"unpunished\",\"scarlet\",\"Abiram\",\"soone\",\"swift\",\"errors\",\"victory\",\"distrusted\",\"Quick\",\"glued\",\"prophet\",\"Coward\",\"imposed\",\"customary\",\"serves\",\"Simon\",\"fares\",\"Beor\",\"climbed\",\"anguish\",\"repulsed\",\"shutters\",\"footing\",\"draw\",\"owned\",\"swarm\",\"Lizard\",\"referred\",\"rottenness\",\"mourn\",\"Swords\",\"Oft\",\"flowed\",\"forgetfulness\",\"boldest\",\"constancy\",\"spirit\",\"Roll\",\"prepared\",\"rafters\",\"bite\",\"slave\",\"Pass\",\"argued\",\"encountering\",\"grapes\",\"vent\",\"redeemer\",\"Courage\",\"Persian\",\"fountains\",\"tenons\",\"however\",\"Whatever\",\"ambassadors\",\"pasteboard\",\"splendour\",\"overtaken\",\"BY\",\"hovered\",\"greeue\",\"security\",\"better\",\"conqueror\",\"subscribe\",\"dear\",\"Rich\",\"thereto\",\"boldness\",\"humble\",\"sentry\",\"contemplation\",\"vivacious\",\"sabbaths\",\"Whither\",\"hadn\",\"guards\",\"Central\",\"customers\",\"inexhaustible\",\"halting\",\"tabernacle\",\"accuse\",\"reins\",\"leysure\",\"LAY\",\"here\",\"Jeush\",\"concrete\",\"mend\",\"nicest\",\"ineffectual\",\"dominions\",\"perception\",\"wrong\",\"foes\",\"lung\",\"insolence\",\"slates\",\"trench\",\"trembled\",\"Raise\",\"scatter\",\"hark\",\"Horatio\",\"sacrificed\",\"open\",\"profession\",\"fuse\",\"nod\",\"baronet\",\"religious\",\"bodily\",\"flutter\",\"Frederick\",\"stump\",\"Avast\",\"Room\",\"cistern\",\"pangs\",\"doest\",\"gushed\",\"courier\",\"despatch\",\"Hittites\",\"Horses\",\"mother\",\"107\",\"occupying\",\"enquiry\",\"elected\",\"twittering\",\"note\",\"Eliab\",\"consent\",\"Knowing\",\"Zoan\",\"dam\",\"routine\",\"Zechariah\",\"that\",\"Hashum\",\"But\",\"uncovered\",\"Baltic\",\"SAILOR\",\"Instrument\",\"Bring\",\"regretting\",\"62\",\"perverse\",\"torments\",\"bondman\",\"Thinke\",\"speak\",\"towed\",\"Dakota\",\"loomed\",\"Mahalaleel\",\"hither\",\"swears\",\"ceasing\",\"Merry\",\"mote\",\"Land\",\"gather\",\"usual\",\"clinch\",\"atmospheres\",\"motive\",\"Tolstoy\",\"liken\",\"Marquis\",\"Place\",\"keepe\",\"stillness\",\"fruition\",\"Thought\",\"forgat\",\"foolish\",\"becoming\",\"kinsmen\",\"springs\",\"panic\",\"shirts\",\"Jebusite\",\"coldly\",\"finde\",\"unfeeling\",\"sonorous\",\"raise\",\"awful\",\"prosperous\",\"mama\",\"myriad\",\"until\",\"apparition\",\"boarder\",\"decline\",\"fatherless\",\"madman\",\"chain\",\"squaw\",\"blackness\",\"serpents\",\"suits\",\"improving\",\"applause\",\"explained\",\"paid\",\"elasticity\",\"Anyhow\",\"Spirit\",\"highways\",\"ore\",\"inventions\",\"nails\",\"stood\",\"poisoned\",\"responded\",\"examined\",\"balloon\",\"fights\",\"huge\",\"afraid\",\"Hal\",\"Gath\",\"wrenched\",\"dispose\",\"Lightfoot\",\"sway\",\"rule\",\"pois\",\"Butler\",\"blasphemer\",\"';\",\"towers\",\"altered\",\"slighted\",\"mornings\",\"shan\",\"Zeboim\",\"cleansing\",\"rivers\",\"volley\",\"Calhoun\",\"palace\",\"Scarcely\",\"Merlin\",\"dinner\",\"fuss\",\"blubber\",\"unexpectedly\",\"Zelophehad\",\"whom\",\"marry\",\"wasted\",\"Island\",\"stolen\",\"attachments\",\"laughs\",\"whereupon\",\"Queene\",\"Doubt\",\"Musicke\",\"darting\",\"artillery\",\"chiefest\",\"Sheshan\",\"Tyrants\",\"livest\",\"abreast\",\"flint\",\"vesture\",\"brace\",\"artful\",\"Doeg\",\"spun\",\"restlessness\",\"provoking\",\"loneliness\",\"Half\",\"studded\",\"simply\",\"exerted\",\"region\",\"Faithful\",\"relied\",\"statutes\",\"meteors\",\"Fifth\",\"perennial\",\"blotted\",\"rescue\",\"hinted\",\"solicitude\",\"fenced\",\"reproaching\",\"sickle\",\"Putnam\",\"specific\",\"deliver\",\"answering\",\"turrets\",\"casual\",\"masks\",\"bright\",\"attaining\",\"tempered\",\"pools\",\"shoved\",\"whalebone\",\"millionaire\",\"shutting\",\"remembers\",\"nights\",\"punishment\",\"shortened\",\"branches\",\"thinke\",\"elders\",\"Tree\",\"reviving\",\"measuring\",\"ruins\",\"HER\",\"exceedingly\",\"stricken\",\"merrily\",\"at\",\",'\\\"\",\"playthings\",\"militant\",\"deplore\",\"Bulkington\",\"countries\",\"Brahmin\",\"Taunton\",\"lilacs\",\"Only\",\"befel\",\"chamber\",\"entreaty\",\"riddles\",\"loosely\",\"Friends\",\"readily\",\"exhausted\",\"sweeper\",\"alacrity\",\"interesting\",\"bit\",\"cleaveth\",\"rapport\",\"Irish\",\"Danish\",\"escaping\",\"defeats\",\"cottages\",\"jungle\",\"savoury\",\"Save\",\"parish\",\"_his_\",\"la\",\"mire\",\"cherubims\",\"farm\",\"solemnly\",\"Finally\",\"locking\",\"subject\",\"opposite\",\"consideration\",\"blessed\",\"exercise\",\":)\",\"pie\",\"draper\",\"wretchedly\",\"harme\",\"Feed\",\"Claude\",\"camels\",\"disgusted\",\"Esq\",\"greenness\",\"drifted\",\"brisk\",\"potato\",\"retire\",\"shoot\",\"Zebah\",\"equals\",\"spreads\",\"stands\",\"owne\",\"exultingly\",\"survivor\",\"suppose\",\"ivory\",\"ejaculated\",\"road\",\"delivered\",\"ME\",\"Zion\",\"testament\",\"OTTER\",\"en\",\"exclamations\",\"glow\",\"menacing\",\"sociable\",\"Heiligwaldenstein\",\"truly\",\"height\",\"Not\",\"Chance\",\"flag\",\"mariner\",\"scenes\",\"little\",\"Lust\",\"Naphtali\",\"ranked\",\"intuitions\",\"unobtrusive\",\"facts\",\"afford\",\"beads\",\"overlaid\",\"dread\",\"darkly\",\"led\",\"jury\",\"hilarity\",\"Auntie\",\"c\",\"token\",\"packthread\",\"neat\",\"procedure\",\"cigar\",\"Virgin\",\"Nazarite\",\"owners\",\"which\",\"Shipmates\",\"Azekah\",\"principal\",\"meal\",\"head\",\"ensured\",\"infinite\",\"conceived\",\"se\",\"Uriel\",\"Fourth\",\"largely\",\"doctrines\",\"Word\",\"rightly\",\"clattering\",\"whilst\",\"achieved\",\"ambrosial\",\"traitor\",\"delightfully\",\"measured\",\"pomegranates\",\"brother\",\"Deck\",\"splash\",\"affects\",\"Funerall\",\"waiter\",\"sinful\",\"presently\",\"aske\",\"Well\",\"chip\",\"fading\",\"buy\",\"balanced\",\"reigns\",\"Make\",\"Hosah\",\"inconveniences\",\"governments\",\"magistrates\",\"aren\",\"prairie\",\"costume\",\"Ben\",\"roared\",\"unobserved\",\"propriety\",\"valued\",\"Go\",\"diamond\",\"Knightleys\",\"lacking\",\"melon\",\"gasping\",\"body\",\"contrive\",\"yourselves\",\"Catastrophism\",\"pertaineth\",\"neatly\",\"Amorites\",\"pork\",\"obeisance\",\"frankly\",\"setteth\",\"view\",\"terrors\",\"Satan\",\"feverish\",\"source\",\"grant\",\"hundreds\",\"Elijah\",\"agreed\",\"place\",\"angles\",\"elements\",\"Return\",\"quickeneth\",\"poke\",\"pipe\",\"sweepers\",\"Nethinims\",\"redeemed\",\"_you_\",\"sickness\",\"discharging\",\"punish\",\"tore\",\"delivereth\",\"harpoons\",\"lull\",\"Belshazzar\",\"puff\",\"knights\",\"cleanness\",\"plot\",\"morn\",\"unquestionable\",\"Hashabiah\",\"watchful\",\"Still\",\"staggering\",\"slavery\",\"nerves\",\"cow\",\"blasted\",\"quire\",\"Girgashites\",\"kissed\",\"avenue\",\"specimen\",\"continued\",\"expectations\",\"outwardly\",\"Case\",\"tube\",\"Michael\",\"rumbling\",\"Shishak\",\"Beale\",\"execution\",\"four\",\"Turn\",\"clay\",\"slightly\",\"shadows\",\"sums\",\"Conduit\",\"cumbrous\",\"Abarim\",\"image\",\"condemned\",\"articles\",\"bears\",\"pestilent\",\"terribly\",\"sharpening\",\"Priest\",\"dancer\",\"surely\",\"ragged\",\"arches\",\"quieted\",\"portents\",\"woolly\",\"vicissitudes\",\"sink\",\"including\",\"unlocked\",\"soldier\",\"bugles\",\"wilde\",\"landau\",\"acres\",\"buffalo\",\"perfumed\",\"82\",\"chief\",\"Lest\",\"hatchet\",\"improvements\",\"risking\",\"Pleas\",\"Since\",\"famed\",\"scrip\",\"Rechab\",\"village\",\"dollars\",\"stirred\",\"tramping\",\"frivolous\",\"contentious\",\"pitiful\",\"prayed\",\"negligent\",\"Nash\",\"Third\",\"crush\",\"decisively\",\"punctuality\",\"amazingly\",\"verdure\",\",'\",\"wafers\",\"perfected\",\"congregation\",\"experienced\",\"retrospective\",\"clad\",\"Winds\",\"livelihood\",\"grandson\",\"needeth\",\"feet\",\"match\",\"Finsb\",\"mallet\",\"steadiness\",\"Florida\",\"youthful\",\"vnto\",\"scepticism\",\"omer\",\"fervent\",\"regarded\",\"meekly\",\"jointure\",\"plentifully\",\"finest\",\"flakes\",\"reap\",\"stomach\",\"gallantry\",\"shewbread\",\"folds\",\"durst\",\"Woe\",\"suggestions\",\"substantial\",\"proclaim\",\"Townsend\",\"SHIP\",\"young\",\"hyssop\",\"necessary\",\"Jersey\",\"Things\",\"Ethel\",\"outlet\",\"Parliament\",\"Joash\",\"chin\",\"Exit\",\"tolerably\",\"Health\",\"Faces\",\"cage\",\"perfect\",\"some\",\"asserted\",\"crumbs\",\"memory\",\"Therefore\",\"passing\",\"tearing\",\"Niagara\",\"108\",\"boards\",\"Betwixt\",\"others\",\"atmosphere\",\"discontented\",\"Dame\",\"Melchisedec\",\"doesn\",\"dedicated\",\"stem\",\"nicely\",\"negroes\",\"Nantucketer\",\"alliance\",\"Indies\",\"plenty\",\"military\",\"rail\",\"Sixteen\",\"defile\",\"Turkish\",\"extravagance\",\"foxes\",\"Mac\",\"confidentially\",\"shekels\",\"apprehension\",\"promis\",\"stunning\",\"loaded\",\"threshold\",\"aboriginal\",\"capitol\",\"corridor\",\"three\",\"Fir\",\"earthly\",\"copper\",\"Abner\",\"Ay\",\"murdering\",\"despise\",\"features\",\"beastly\",\"holy\",\"spilt\",\"curseth\",\"godliness\",\"meaning\",\"layer\",\"Guinea\",\"gaze\",\"Uriah\",\"asketh\",\"aromatic\",\"thanks\",\"stumps\",\"belt\",\"regions\",\"impossibility\",\"scientific\",\"\\\".\",\"signify\",\"points\",\"frail\",\"tatters\",\"sixty\",\"catches\",\"masonry\",\"orders\",\"Simeon\",\"completed\",\"imagined\",\"dresses\",\"beehive\",\"cheerily\",\"starboard\",\"decay\",\"realities\",\"repressed\",\"Enan\",\"maize\",\"Lower\",\"moved\",\"Rabbi\",\"28\",\"MR\",\"sucked\",\"spoons\",\"powder\",\"Sophy\",\"vicarage\",\"Milsom\",\"Mock\",\"Hezron\",\"sauntering\",\"renewed\",\"lawful\",\"conscientious\",\"seating\",\"Samaria\",\"Their\",\"Shechaniah\",\"stature\",\"taches\",\"wickedly\",\"furnished\",\"adding\",\"hive\",\"keys\",\"warmer\",\"wiping\",\"mould\",\"languisheth\",\"satisfying\",\"Indiana\",\"Cawdor\",\"silence\",\"tapped\",\"masculine\",\"Sold\",\"call\",\"firmly\",\"Foyles\",\"unprincipled\",\"provoke\",\"Riblah\",\"Salmon\",\"partiality\",\"turtles\",\"mature\",\"principles\",\"HE\",\"brass\",\"confinement\",\"Nethaneel\",\"clenched\",\"lobsters\",\"flesh\",\"generals\",\"inexplicable\",\"strictly\",\"tabernacles\",\"assuming\",\"brazen\",\"Beneath\",\"dulness\",\"disappeared\",\"disobedient\",\"proofs\",\"BARRING\",\"Daughter\",\"said\",\"section\",\"sensibly\",\"garrisons\",\"myriads\",\"assure\",\"jingle\",\"dross\",\"resolve\",\"staid\",\"saluted\",\"uncles\",\"wounds\",\"Human\",\"hurrying\",\"favourite\",\"exact\",\"me\",\"tows\",\"amplitude\",\"unto\",\"Wee\",\"rounds\",\"Holland\",\"?'\",\"cavity\",\"conspiracy\",\"prudently\",\"braces\",\"scholar\",\"whiskers\",\"bride\",\"Robinson\",\"hooded\",\"distracted\",\"Past\",\"teare\",\"aint\",\"graces\",\"candle\",\"Honor\",\"southward\",\"offer\",\"dismay\",\"blamed\",\"70\",\"discreet\",\"ancient\",\"eastward\",\"parlor\",\"lipp\",\"fires\",\"landsmen\",\"horror\",\"Shelah\",\"depression\",\"Jimmy\",\"compacted\",\"representing\",\"conventional\",\"poison\",\"instant\",\"gendarmes\",\"melodious\",\"perils\",\"preluding\",\"midnight\",\"disastrous\",\"betraying\",\"FOLIO\",\"thither\",\"defied\",\"Barbara\",\"halt\",\"compound\",\"continental\",\"multiplied\",\"Governor\",\"delightful\",\"snares\",\"pedigree\",\"meeting\",\"shy\",\"Eliakim\",\"taskmasters\",\"magnificent\",\"weep\",\"Java\",\"Seyton\",\"roof\",\"seeks\",\"Inn\",\"recompense\",\"following\",\"Sirs\",\"attends\",\"lay\",\"renounce\",\"yesternight\",\"Tarshish\",\"yesterday\",\"Seems\",\"raving\",\"nought\",\"unmistakable\",\"consecration\",\"limitless\",\"apathy\",\"Ophe\",\"Sunda\",\"Latin\",\"Milcah\",\"cautious\",\"favours\",\"originally\",\"wand\",\"sheltered\",\"corners\",\"Reason\",\"sounding\",\"occurs\",\"expanded\",\"copy\",\"whirls\",\"reasoned\",\"latest\",\"market\",\"judgment\",\"teraphim\",\"latitude\",\"persuaded\",\"entertainment\",\"invaluable\",\"impart\",\"conducted\",\"briskly\",\"merchandise\",\"prettiest\",\"heathen\",\"rattle\",\"feather\",\"boil\",\"foil\",\"Silent\",\"brief\",\"Bethsaida\",\"rendering\",\"stoop\",\"pillows\",\"dukes\",\"greet\",\"closely\",\"paced\",\"Hercules\",\"Mettle\",\"two\",\"mix\",\"caprice\",\"widower\",\"ceremony\",\"hotter\",\"burnished\",\"cherish\",\"direct\",\"testimonies\",\"quarrelled\",\"--'\",\"Children\",\"tarts\",\"incomplete\",\"Rephidim\",\"exasperated\",\"betweene\",\"Charme\",\"repenting\",\"dire\",\"unseen\",\"Eh\",\"discovering\",\"rifles\",\"fierce\",\"satisfactory\",\"Fool\",\"fettered\",\"rebel\",\"praising\",\"publican\",\"lumber\",\"approaches\",\"Valognes\",\"stating\",\"delicious\",\"concord\",\"pavements\",\"say\",\"dale\",\"affable\",\"loom\",\"cedar\",\"peculiar\",\"Landlord\",\"prodigy\",\"Farm\",\"hempen\",\"treasury\",\"fishermen\",\"fault\",\"barren\",\"vp\",\"diamonds\",\"Obededom\",\"ox\",\"mansion\",\"Jones\",\"peeled\",\"ope\",\"crests\",\"towards\",\"resident\",\"coming\",\"meditate\",\"brink\",\"corruption\",\"admirer\",\"suspecting\",\"about\",\"song\",\"requisite\",\"sympathetic\",\"nonsense\",\"close\",\"liars\",\"capstan\",\"psalm\",\"hairy\",\"surround\",\"sicknesse\",\"Perizzite\",\"powre\",\"wiser\",\"beating\",\"enrich\",\"with\",\"lbs\",\"whereas\",\"Gideoni\",\"germs\",\"disquieted\",\"Torch\",\"heavily\",\"C\",\"sinned\",\"Done\",\"resources\",\"banners\",\"Shallum\",\"introducing\",\"Sey\",\"paralytic\",\"odds\",\"van\",\"breadth\",\"collected\",\"offers\",\"stink\",\"white\",\"squadrons\",\"therein\",\"Wandering\",\"Fomorians\",\"intellect\",\"equatorial\",\"glassy\",\"problem\",\"holdeth\",\"From\",\"Seed\",\"words\",\"Shilonite\",\"Priests\",\"abundantly\",\"forbidden\",\"sheep\",\"prior\",\"Follow\",\"inherited\",\"shown\",\"possibilities\",\"Aunt\",\"memorial\",\"scrape\",\"whirlwind\",\"child\",\"Kishon\",\"resigned\",\"waltz\",\"horribly\",\"hoot\",\"contented\",\"hourly\",\"His\",\"varied\",\"rigour\",\"Asp\",\"abhor\",\"rebellious\",\"\\\"*\",\"brandishing\",\"twain\",\"matured\",\"bedfellow\",\"bullocks\",\"reacheth\",\"chargeable\",\"consistent\",\"grate\",\"Prairie\",\"acceptance\",\"novel\",\"heauen\",\"inseparable\",\"resignation\",\"trade\",\"exhilarating\",\"distribute\",\"winked\",\"grandeur\",\"wreaths\",\"populace\",\"inhabit\",\"downwards\",\"hare\",\"Cause\",\"genealogies\",\"disease\",\"moderate\",\"Rekem\",\"possess\",\"justly\",\"Hinnom\",\"nominally\",\"wont\",\"convex\",\"partnership\",\"Hard\",\"seems\",\"sacred\",\"prostrate\",\"too\",\"bill\",\"decidedly\",\"dynamite\",\"New\",\"paling\",\"Soft\",\"Eltons\",\"princess\",\"obeying\",\"collision\",\"Gershonites\",\"Esaias\",\"destin\",\"Jungfrau\",\"sour\",\"mindes\",\"wentest\",\"articulation\",\"yields\",\"declares\",\"Considering\",\"grin\",\"Nathan\",\"Carmelite\",\"Lands\",\"regularly\",\"eruption\",\"Camille\",\"Hutton\",\"lunch\",\"unheeded\",\"endeavoured\",\"barns\",\"sanctuary\",\"burned\",\"proclaiming\",\"Carry\",\"crowning\",\"persecutest\",\"goal\",\"harder\",\"swan\",\"fleet\",\"cruse\",\"96\",\"Baal\",\"credulous\",\"Beloved\",\"dieth\",\"bridegroom\",\"Hickory\",\"frighted\",\"drifting\",\"sign\",\"guard\",\"blocked\",\"nettles\",\"lungs\",\"withered\",\"cabs\",\"waken\",\"mystical\",\"irritable\",\"Roman\",\"regarding\",\"Typhoon\",\"presse\",\"Foe\",\"trespassed\",\"streaks\",\"rejoice\",\"surging\",\"exploded\",\"sent\",\"pane\",\"Heman\",\"fifteenth\",\"faultless\",\"beast\",\"edify\",\"prow\",\"Durand\",\"whet\",\"Pour\",\"motor\",\"blockhead\",\"undoubtedly\",\"Heare\",\"sharpest\",\"dreaming\",\"aright\",\"might\",\"flashed\",\"circumcision\",\"whispering\",\"dears\",\"terrestrial\",\"gaunt\",\"hawser\",\"End\",\"Amminadab\",\"Attendants\",\"hull\",\"considereth\",\"straight\",\"fearing\",\"selected\",\"benefit\",\"politeness\",\"month\",\"necks\",\"Rosin\",\"valleys\",\"seeing\",\"skulls\",\"learning\",\"exertion\",\"therewith\",\"job\",\"Crown\",\"abase\",\"despaired\",\"tomahawk\",\"dispositions\",\"Diuell\",\"fourscore\",\"braue\",\"stupid\",\"revolving\",\"sagacity\",\"favour\",\"indisposed\",\"subdued\",\"Found\",\"ocean\",\"feares\",\"horizontally\",\"cake\",\"highth\",\"listened\",\"blindly\",\"churches\",\"burst\",\"unimaginable\",\"Cutler\",\"conveyance\",\"feebleness\",\"RED\",\"reasonings\",\"shortly\",\"changes\",\"Convict\",\"hatred\",\"deck\",\"feign\",\"Duchess\",\"Master\",\"Alarums\",\"impulse\",\"engrossed\",\"disaster\",\"Ram\",\"Form\",\"58\",\"He\",\"wager\",\"electioneerer\",\"irritated\",\"inventors\",\"gleamed\",\"seclusion\",\"chapters\",\"BOY\",\"feared\",\"shattered\",\"floor\",\"woven\",\"privations\",\"cheat\",\"small\",\"fiercest\",\"wares\",\"lamps\",\"Tears\",\"previous\",\"employ\",\"have\",\"supported\",\"_your_\",\"still\",\"without\",\"widowhood\",\"Windsor\",\"pallid\",\"Buildings\",\"Women\",\"Trick\",\"infidel\",\"triangle\",\"no\",\"contradicted\",\"drowsy\",\"preparing\",\"himself\",\"emulous\",\"confusing\",\"don\",\"rooms\",\"sturdy\",\"evil\",\"control\",\"nets\",\"navies\",\"?'\\\"\",\"Huzza\",\"Ain\",\"BEFORE\",\"appease\",\"twelfth\",\"neglect\",\"jib\",\"bedchamber\",\"Democracy\",\"domestic\",\"arising\",\"ploughed\",\"consult\",\"restoring\",\"tend\",\"killeth\",\"pursuing\",\"Cas\",\";'\",\"unlucky\",\"Lodge\",\"moonshine\",\"Fury\",\"exactness\",\"owls\",\"gnawing\",\"diseased\",\"otherwise\",\");\",\"revealed\",\"hour\",\"dreadfully\",\"eighteen\",\"far\",\"swing\",\"robbers\",\"byword\",\"convocation\",\"68\",\"crows\",\"Golgotha\",\"softness\",\"thereon\",\"Michaelmas\",\"next\",\"copious\",\"Clay\",\"sad\",\"requires\",\"BUSTER\",\"assisting\",\"Enos\",\"flush\",\"reliable\",\"frightened\",\"follies\",\"Slaue\",\"gallows\",\"destitute\",\"prayer\",\"recovering\",\"eternal\",\"Libertad\",\"stepping\",\"Bartlett\",\"48\",\"sanity\",\"tis\",\"reserve\",\"bandaged\",\"ports\",\"torn\",\"glad\",\"trash\",\"Amon\",\"handle\",\"fairies\",\"harden\",\"harshly\",\"bits\",\"fluke\",\"vegetable\",\"binding\",\"yield\",\"variations\",\"needles\",\"tipped\",\"Uppercross\",\"34\",\"silent\",\"Cushi\",\"Suckling\",\"musician\",\"comfortable\",\"hopeful\",\"million\",\"ways\",\"attend\",\"justified\",\"Landlady\",\"railroad\",\"Dishon\",\"strikes\",\"consciousness\",\"pendant\",\"hating\",\"$\",\"consumed\",\"avoided\",\"Manoah\",\"propose\",\"lower\",\"ashamed\",\"freshness\",\"Mothers\",\"scented\",\"compromise\",\"privily\",\"appears\",\"imports\",\"Or\",\"incense\",\"subdue\",\"exception\",\"positively\",\"spoiler\",\"Terah\",\"chooses\",\"bunches\",\"climbs\",\"Turnbull\",\"School\",\"hospitable\",\"boyish\",\"forms\",\"Trade\",\"Byron\",\"sorrows\",\"fame\",\"brake\",\"vpon\",\"bruise\",\"moreover\",\"growled\",\"Declare\",\"reueng\",\"waxen\",\"oval\",\"fence\",\"followes\",\"relieve\",\"Murder\",\"Donwell\",\"man\",\"poore\",\"tumbling\",\"supreme\",\"nailed\",\"Pul\",\"emboldened\",\"poorer\",\"campaign\",\"counting\",\"hammers\",\"granted\",\"named\",\"generall\",\"tossing\",\"appeased\",\"pausing\",\"burne\",\"raspberries\",\"Enquire\",\"leaning\",\"glasses\",\"tribute\",\"leaders\",\"messengers\",\"Claudio\",\"conceive\",\"loyal\",\"83\",\"pastoral\",\"levelled\",\"offences\",\"81\",\"epics\",\"shriek\",\"apprehend\",\"broughtest\",\"homeward\",\"Mississippi\",\"approach\",\"88\",\"unquestionably\",\"stout\",\"piped\",\"melteth\",\"maidservant\",\"film\",\"Uri\",\"erected\",\"abstinence\",\"swallows\",\"dyed\",\"apologies\",\"blesseth\",\"elegant\",\"performance\",\"Book\",\"surety\",\"shewed\",\"theirs\",\"manned\",\"begun\",\"Abbey\",\"Gray\",\"Helpe\",\"tremble\",\"mint\",\"rested\",\"malignant\",\"WHAT\",\"ball\",\"development\",\"compasseth\",\"longer\",\"consequent\",\"shapeless\",\"insects\",\"peeped\",\"imperfect\",\"flogged\",\"myrtle\",\"protected\",\"BURSAL\",\"foresaw\",\"deare\",\"arisen\",\"adjoining\",\"Common\",\"thunderbolts\",\"rot\",\"void\",\"Start\",\"unconscious\",\"Cain\",\"need\",\"containing\",\"profaned\",\"oppose\",\"pyramids\",\"elevation\",\"fishery\",\"thing\",\"diverse\",\"holiest\",\"twilight\"],\"shape\":[5000],\"dtype\":\"object\",\"order\":\"little\"}]]}}},\"view\":{\"type\":\"object\",\"name\":\"CDSView\",\"id\":\"p1039\",\"attributes\":{\"filter\":{\"type\":\"object\",\"name\":\"AllIndices\",\"id\":\"p1040\"}}},\"glyph\":{\"type\":\"object\",\"name\":\"Text\",\"id\":\"p1035\",\"attributes\":{\"x\":{\"type\":\"field\",\"field\":\"x\"},\"y\":{\"type\":\"field\",\"field\":\"y\"},\"text\":{\"type\":\"field\",\"field\":\"text\"},\"text_color\":{\"type\":\"value\",\"value\":\"black\"}}},\"nonselection_glyph\":{\"type\":\"object\",\"name\":\"Text\",\"id\":\"p1036\",\"attributes\":{\"x\":{\"type\":\"field\",\"field\":\"x\"},\"y\":{\"type\":\"field\",\"field\":\"y\"},\"text\":{\"type\":\"field\",\"field\":\"text\"},\"text_color\":{\"type\":\"value\",\"value\":\"black\"},\"text_alpha\":{\"type\":\"value\",\"value\":0.1}}},\"muted_glyph\":{\"type\":\"object\",\"name\":\"Text\",\"id\":\"p1037\",\"attributes\":{\"x\":{\"type\":\"field\",\"field\":\"x\"},\"y\":{\"type\":\"field\",\"field\":\"y\"},\"text\":{\"type\":\"field\",\"field\":\"text\"},\"text_color\":{\"type\":\"value\",\"value\":\"black\"},\"text_alpha\":{\"type\":\"value\",\"value\":0.2}}}}}],\"toolbar\":{\"type\":\"object\",\"name\":\"Toolbar\",\"id\":\"p1012\",\"attributes\":{\"tools\":[{\"type\":\"object\",\"name\":\"PanTool\",\"id\":\"p1025\"},{\"type\":\"object\",\"name\":\"WheelZoomTool\",\"id\":\"p1026\"},{\"type\":\"object\",\"name\":\"BoxZoomTool\",\"id\":\"p1027\",\"attributes\":{\"overlay\":{\"type\":\"object\",\"name\":\"BoxAnnotation\",\"id\":\"p1028\",\"attributes\":{\"syncable\":false,\"level\":\"overlay\",\"visible\":false,\"left_units\":\"canvas\",\"right_units\":\"canvas\",\"bottom_units\":\"canvas\",\"top_units\":\"canvas\",\"line_color\":\"black\",\"line_alpha\":1.0,\"line_width\":2,\"line_dash\":[4,4],\"fill_color\":\"lightgrey\",\"fill_alpha\":0.5}}}},{\"type\":\"object\",\"name\":\"SaveTool\",\"id\":\"p1029\"},{\"type\":\"object\",\"name\":\"ResetTool\",\"id\":\"p1030\"},{\"type\":\"object\",\"name\":\"HelpTool\",\"id\":\"p1031\"}]}},\"left\":[{\"type\":\"object\",\"name\":\"LinearAxis\",\"id\":\"p1020\",\"attributes\":{\"ticker\":{\"type\":\"object\",\"name\":\"BasicTicker\",\"id\":\"p1021\",\"attributes\":{\"mantissas\":[1,2,5]}},\"formatter\":{\"type\":\"object\",\"name\":\"BasicTickFormatter\",\"id\":\"p1022\"},\"major_label_policy\":{\"type\":\"object\",\"name\":\"AllLabels\",\"id\":\"p1023\"}}}],\"below\":[{\"type\":\"object\",\"name\":\"LinearAxis\",\"id\":\"p1015\",\"attributes\":{\"ticker\":{\"type\":\"object\",\"name\":\"BasicTicker\",\"id\":\"p1016\",\"attributes\":{\"mantissas\":[1,2,5]}},\"formatter\":{\"type\":\"object\",\"name\":\"BasicTickFormatter\",\"id\":\"p1017\"},\"major_label_policy\":{\"type\":\"object\",\"name\":\"AllLabels\",\"id\":\"p1018\"}}}],\"center\":[{\"type\":\"object\",\"name\":\"Grid\",\"id\":\"p1019\",\"attributes\":{\"axis\":{\"id\":\"p1015\"}}},{\"type\":\"object\",\"name\":\"Grid\",\"id\":\"p1024\",\"attributes\":{\"dimension\":1,\"axis\":{\"id\":\"p1020\"}}}]}}]}};\n",
       "  const render_items = [{\"docid\":\"f896dc4c-851d-4f2c-9b97-d460b8438a68\",\"roots\":{\"p1004\":\"f47045cf-f67c-4272-a3c4-38635416f6cc\"},\"root_ids\":[\"p1004\"]}];\n",
       "  root.Bokeh.embed.embed_items_notebook(docs_json, render_items);\n",
       "  }\n",
       "  if (root.Bokeh !== undefined) {\n",
       "    embed_document(root);\n",
       "  } else {\n",
       "    let attempts = 0;\n",
       "    const timer = setInterval(function(root) {\n",
       "      if (root.Bokeh !== undefined) {\n",
       "        clearInterval(timer);\n",
       "        embed_document(root);\n",
       "      } else {\n",
       "        attempts++;\n",
       "        if (attempts > 100) {\n",
       "          clearInterval(timer);\n",
       "          console.log(\"Bokeh: ERROR: Unable to run BokehJS code because BokehJS library is missing\");\n",
       "        }\n",
       "      }\n",
       "    }, 10, root)\n",
       "  }\n",
       "})(window);"
      ],
      "application/vnd.bokehjs_exec.v0+json": ""
     },
     "metadata": {
      "application/vnd.bokehjs_exec.v0+json": {
       "id": "p1004"
      }
     },
     "output_type": "display_data"
    }
   ],
   "source": [
    "show(p)"
   ]
  },
  {
   "cell_type": "code",
   "execution_count": null,
   "metadata": {},
   "outputs": [],
   "source": []
  }
 ],
 "metadata": {
  "kernelspec": {
   "display_name": "Python 3 (ipykernel)",
   "language": "python",
   "name": "python3"
  },
  "language_info": {
   "codemirror_mode": {
    "name": "ipython",
    "version": 3
   },
   "file_extension": ".py",
   "mimetype": "text/x-python",
   "name": "python",
   "nbconvert_exporter": "python",
   "pygments_lexer": "ipython3",
   "version": "3.11.5"
  }
 },
 "nbformat": 4,
 "nbformat_minor": 2
}
